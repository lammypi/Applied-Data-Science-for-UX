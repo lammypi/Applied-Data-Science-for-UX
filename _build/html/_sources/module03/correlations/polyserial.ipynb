{
 "cells": [
  {
   "cell_type": "markdown",
   "metadata": {
    "id": "rnaJyp1ry9cb"
   },
   "source": [
    "# Polyserial Correlation"
   ]
  },
  {
   "cell_type": "markdown",
   "metadata": {
    "id": "jtHqr_fwzArt"
   },
   "source": [
    "The polyserial correlation is really interesting to consider because it forces you, as a researcher, to consider the nature of your variables. This correlation measures the relationship between one continuous variable and one polychotomous variable. Here's what makes it fun, though: The latent variable underlying the polychotomous variable is not directly observed and assumed to be continuous in nature. Here is an example to make it a bit more concrete:\n",
    "\n",
    "You are measuring time on task (continuous) for a newly redesigned appointment booking task. Afterwards, you ask your pariticpants to rate their satisfaction with the task on a scale of 1 to 5 where 1 is very unsatisfied, and 5 is very satisfied. The latent variable underlying the satisfaction rating is assumed to be continuous, but we are using the polychotomous rating scale to represent it and stand in for it in the correlation.\n",
    "\n",
    "At this point it's valid to ask the question: Why would I use polyserial correlation versus something like Spearman correlation? Something like the Spearman correlation is fine if you're doing exploratory work and you aren't assuming your polychotomous variable represents a truly continuous latent variable, or you're not trying to investigate a hypothesis related to your specific variables. However, if in your research you acknowledge one variable is a polychotomized continuous measure, or you form a specific hypothesis like, \"I think participants who completed the task quickly will have higher satisfaction,\" you should use the polyserial correlation.\n",
    "\n",
    "Just to drive home the complexity of this correlation, unlike other correlations, it does not have a closed-form formula. Instead, you are looking to maximize the log likelihood of your data points for each threshold (polychotomous) value.\n",
    "\n",
    "\n",
    "__Interpreting the Polyserial Correlation__\n",
    "\n",
    "Like most of the other correlations, the polyserial correlation is on the range of [-1, 1]. The table below provides guidelines for interpretation, but uses the absolute value of the correlation to set the ranges.\n",
    "\n",
    "|Correlation Coefficient | Interpretation |\n",
    "|---------------------------|----------------|\n",
    "| 0.00 – 0.10 | Negligible or trivial |\n",
    "| 0.10 – 0.30 | Weak |\n",
    "| 0.30 – 0.50 | Moderate |\n",
    "| 0.50 – 1.00 | Strong |\n",
    "\n",
    "\n",
    "__Assumptions__\n",
    "1. The continuous variable should be approximately normal.\n",
    "2. The continuous latent variable underlying the polychotomized variable is approximately normally distributed.\n",
    "3. The continuous variable and the continuous latent variable can be modeled using a bivariate normal distribution.\n",
    "  - This means that each variable is normally distributed, and their joint distribution (and linear combination of them) is also normally distributed.\n",
    "4. The thresholds that polychotomize the latent continuous variable are at fixed regular intervals, and ordered.\n",
    "\n"
   ]
  },
  {
   "cell_type": "markdown",
   "metadata": {
    "id": "4wSkHPumLxzW"
   },
   "source": [
    "## Python Code Example\n",
    "\n",
    "Once again, I'll generate a small data set with some random values for time on task (seconds) and satisfaction (1 to 5)"
   ]
  },
  {
   "cell_type": "code",
   "execution_count": 1,
   "metadata": {
    "executionInfo": {
     "elapsed": 1533,
     "status": "ok",
     "timestamp": 1752410929207,
     "user": {
      "displayName": "Leslie McFarlin",
      "userId": "01236583391427149381"
     },
     "user_tz": 240
    },
    "id": "J0b3FNjyxMAE"
   },
   "outputs": [],
   "source": [
    "# Import\n",
    "import numpy as np\n",
    "import pandas as pd\n",
    "\n",
    "# Correlation coefficient\n",
    "import scipy.stats as stats\n",
    "\n",
    "# Visualizations\n",
    "import matplotlib.pyplot as plt\n",
    "import seaborn as sns"
   ]
  },
  {
   "cell_type": "code",
   "execution_count": 2,
   "metadata": {
    "executionInfo": {
     "elapsed": 3,
     "status": "ok",
     "timestamp": 1752410930410,
     "user": {
      "displayName": "Leslie McFarlin",
      "userId": "01236583391427149381"
     },
     "user_tz": 240
    },
    "id": "wEmo3lurLxCU"
   },
   "outputs": [],
   "source": [
    "# Seed\n",
    "np.random.seed(10)\n",
    "\n",
    "# Create the dataframe\n",
    "df = pd.DataFrame(data={'time_on_task': list(np.random.normal(60, 15, 100)),\n",
    "                        'satisfaction': list(np.random.randint(1, 6, 100))})"
   ]
  },
  {
   "cell_type": "code",
   "execution_count": 22,
   "metadata": {
    "colab": {
     "base_uri": "https://localhost:8080/"
    },
    "executionInfo": {
     "elapsed": 30,
     "status": "ok",
     "timestamp": 1752412624333,
     "user": {
      "displayName": "Leslie McFarlin",
      "userId": "01236583391427149381"
     },
     "user_tz": 240
    },
    "id": "ouEZkSae7YL2",
    "outputId": "83f7a11e-e7ba-4124-f545-1d894491e574"
   },
   "outputs": [
    {
     "name": "stdout",
     "output_type": "stream",
     "text": [
      "<class 'pandas.core.frame.DataFrame'>\n",
      "RangeIndex: 100 entries, 0 to 99\n",
      "Data columns (total 2 columns):\n",
      " #   Column        Non-Null Count  Dtype  \n",
      "---  ------        --------------  -----  \n",
      " 0   time_on_task  100 non-null    float64\n",
      " 1   satisfaction  100 non-null    int64  \n",
      "dtypes: float64(1), int64(1)\n",
      "memory usage: 1.7 KB\n"
     ]
    }
   ],
   "source": [
    "# Show\n",
    "df.info()"
   ]
  },
  {
   "cell_type": "code",
   "execution_count": 3,
   "metadata": {
    "colab": {
     "base_uri": "https://localhost:8080/",
     "height": 269
    },
    "executionInfo": {
     "elapsed": 125,
     "status": "ok",
     "timestamp": 1752410931978,
     "user": {
      "displayName": "Leslie McFarlin",
      "userId": "01236583391427149381"
     },
     "user_tz": 240
    },
    "id": "NVJsm5y6Mpar",
    "outputId": "f9cfc3a0-cf48-4357-b605-18a75a39e8c5"
   },
   "outputs": [
    {
     "data": {
      "application/vnd.google.colaboratory.intrinsic+json": {
       "summary": "{\n  \"name\": \"df\",\n  \"rows\": 5,\n  \"fields\": [\n    {\n      \"column\": [\n        \"satisfaction\",\n        \"\"\n      ],\n      \"properties\": {\n        \"dtype\": \"number\",\n        \"std\": 1,\n        \"min\": 1,\n        \"max\": 5,\n        \"num_unique_values\": 5,\n        \"samples\": [\n          2,\n          5,\n          3\n        ],\n        \"semantic_type\": \"\",\n        \"description\": \"\"\n      }\n    },\n    {\n      \"column\": [\n        \"time_on_task\",\n        \"count\"\n      ],\n      \"properties\": {\n        \"dtype\": \"number\",\n        \"std\": 1.4142135623730951,\n        \"min\": 18.0,\n        \"max\": 22.0,\n        \"num_unique_values\": 3,\n        \"samples\": [\n          20.0,\n          18.0,\n          22.0\n        ],\n        \"semantic_type\": \"\",\n        \"description\": \"\"\n      }\n    },\n    {\n      \"column\": [\n        \"time_on_task\",\n        \"mean\"\n      ],\n      \"properties\": {\n        \"dtype\": \"number\",\n        \"std\": 3.2108931301342847,\n        \"min\": 58.303123647997644,\n        \"max\": 66.00397895676628,\n        \"num_unique_values\": 5,\n        \"samples\": [\n          58.502724937863704,\n          62.478535683786646,\n          66.00397895676628\n        ],\n        \"semantic_type\": \"\",\n        \"description\": \"\"\n      }\n    },\n    {\n      \"column\": [\n        \"time_on_task\",\n        \"std\"\n      ],\n      \"properties\": {\n        \"dtype\": \"number\",\n        \"std\": 2.618852319430922,\n        \"min\": 11.95034930019351,\n        \"max\": 18.16994268289543,\n        \"num_unique_values\": 5,\n        \"samples\": [\n          13.772994546808274,\n          12.518059660386525,\n          16.23552343569389\n        ],\n        \"semantic_type\": \"\",\n        \"description\": \"\"\n      }\n    },\n    {\n      \"column\": [\n        \"time_on_task\",\n        \"min\"\n      ],\n      \"properties\": {\n        \"dtype\": \"number\",\n        \"std\": 4.047275773093299,\n        \"min\": 28.02431837277594,\n        \"max\": 38.721659561649076,\n        \"num_unique_values\": 5,\n        \"samples\": [\n          30.334075790131394,\n          32.15721779083278,\n          38.721659561649076\n        ],\n        \"semantic_type\": \"\",\n        \"description\": \"\"\n      }\n    },\n    {\n      \"column\": [\n        \"time_on_task\",\n        \"25%\"\n      ],\n      \"properties\": {\n        \"dtype\": \"number\",\n        \"std\": 2.781116256025823,\n        \"min\": 49.32253855438934,\n        \"max\": 55.16292757940745,\n        \"num_unique_values\": 5,\n        \"samples\": [\n          49.32253855438934,\n          54.02362622162454,\n          55.16292757940745\n        ],\n        \"semantic_type\": \"\",\n        \"description\": \"\"\n      }\n    },\n    {\n      \"column\": [\n        \"time_on_task\",\n        \"50%\"\n      ],\n      \"properties\": {\n        \"dtype\": \"number\",\n        \"std\": 2.8683063401592768,\n        \"min\": 57.91723558632805,\n        \"max\": 64.0560004982841,\n        \"num_unique_values\": 5,\n        \"samples\": [\n          58.5495400874167,\n          64.0560004982841,\n          63.82960605486406\n        ],\n        \"semantic_type\": \"\",\n        \"description\": \"\"\n      }\n    },\n    {\n      \"column\": [\n        \"time_on_task\",\n        \"75%\"\n      ],\n      \"properties\": {\n        \"dtype\": \"number\",\n        \"std\": 5.235156518033815,\n        \"min\": 64.17261876384688,\n        \"max\": 77.60560702572417,\n        \"num_unique_values\": 5,\n        \"samples\": [\n          66.2108263235814,\n          69.31728219255021,\n          77.60560702572417\n        ],\n        \"semantic_type\": \"\",\n        \"description\": \"\"\n      }\n    },\n    {\n      \"column\": [\n        \"time_on_task\",\n        \"max\"\n      ],\n      \"properties\": {\n        \"dtype\": \"number\",\n        \"std\": 6.451712842323877,\n        \"min\": 82.26805502754874,\n        \"max\": 97.01476584651904,\n        \"num_unique_values\": 5,\n        \"samples\": [\n          82.26805502754874,\n          85.08933319961741,\n          97.01476584651904\n        ],\n        \"semantic_type\": \"\",\n        \"description\": \"\"\n      }\n    }\n  ]\n}",
       "type": "dataframe"
      },
      "text/html": [
       "\n",
       "  <div id=\"df-64b7a6d2-e13f-409c-b099-6ee58a9ed95a\" class=\"colab-df-container\">\n",
       "    <div>\n",
       "<style scoped>\n",
       "    .dataframe tbody tr th:only-of-type {\n",
       "        vertical-align: middle;\n",
       "    }\n",
       "\n",
       "    .dataframe tbody tr th {\n",
       "        vertical-align: top;\n",
       "    }\n",
       "\n",
       "    .dataframe thead tr th {\n",
       "        text-align: left;\n",
       "    }\n",
       "\n",
       "    .dataframe thead tr:last-of-type th {\n",
       "        text-align: right;\n",
       "    }\n",
       "</style>\n",
       "<table border=\"1\" class=\"dataframe\">\n",
       "  <thead>\n",
       "    <tr>\n",
       "      <th></th>\n",
       "      <th colspan=\"8\" halign=\"left\">time_on_task</th>\n",
       "    </tr>\n",
       "    <tr>\n",
       "      <th></th>\n",
       "      <th>count</th>\n",
       "      <th>mean</th>\n",
       "      <th>std</th>\n",
       "      <th>min</th>\n",
       "      <th>25%</th>\n",
       "      <th>50%</th>\n",
       "      <th>75%</th>\n",
       "      <th>max</th>\n",
       "    </tr>\n",
       "    <tr>\n",
       "      <th>satisfaction</th>\n",
       "      <th></th>\n",
       "      <th></th>\n",
       "      <th></th>\n",
       "      <th></th>\n",
       "      <th></th>\n",
       "      <th></th>\n",
       "      <th></th>\n",
       "      <th></th>\n",
       "    </tr>\n",
       "  </thead>\n",
       "  <tbody>\n",
       "    <tr>\n",
       "      <th>1</th>\n",
       "      <td>20.0</td>\n",
       "      <td>60.250345</td>\n",
       "      <td>11.950349</td>\n",
       "      <td>30.682318</td>\n",
       "      <td>54.826496</td>\n",
       "      <td>61.415526</td>\n",
       "      <td>64.172619</td>\n",
       "      <td>89.776269</td>\n",
       "    </tr>\n",
       "    <tr>\n",
       "      <th>2</th>\n",
       "      <td>20.0</td>\n",
       "      <td>58.502725</td>\n",
       "      <td>13.772995</td>\n",
       "      <td>30.334076</td>\n",
       "      <td>49.322539</td>\n",
       "      <td>58.549540</td>\n",
       "      <td>66.210826</td>\n",
       "      <td>82.268055</td>\n",
       "    </tr>\n",
       "    <tr>\n",
       "      <th>3</th>\n",
       "      <td>20.0</td>\n",
       "      <td>66.003979</td>\n",
       "      <td>16.235523</td>\n",
       "      <td>38.721660</td>\n",
       "      <td>55.162928</td>\n",
       "      <td>63.829606</td>\n",
       "      <td>77.605607</td>\n",
       "      <td>97.014766</td>\n",
       "    </tr>\n",
       "    <tr>\n",
       "      <th>4</th>\n",
       "      <td>18.0</td>\n",
       "      <td>58.303124</td>\n",
       "      <td>18.169943</td>\n",
       "      <td>28.024318</td>\n",
       "      <td>50.017554</td>\n",
       "      <td>57.917236</td>\n",
       "      <td>71.779603</td>\n",
       "      <td>95.774510</td>\n",
       "    </tr>\n",
       "    <tr>\n",
       "      <th>5</th>\n",
       "      <td>22.0</td>\n",
       "      <td>62.478536</td>\n",
       "      <td>12.518060</td>\n",
       "      <td>32.157218</td>\n",
       "      <td>54.023626</td>\n",
       "      <td>64.056000</td>\n",
       "      <td>69.317282</td>\n",
       "      <td>85.089333</td>\n",
       "    </tr>\n",
       "  </tbody>\n",
       "</table>\n",
       "</div>\n",
       "    <div class=\"colab-df-buttons\">\n",
       "\n",
       "  <div class=\"colab-df-container\">\n",
       "    <button class=\"colab-df-convert\" onclick=\"convertToInteractive('df-64b7a6d2-e13f-409c-b099-6ee58a9ed95a')\"\n",
       "            title=\"Convert this dataframe to an interactive table.\"\n",
       "            style=\"display:none;\">\n",
       "\n",
       "  <svg xmlns=\"http://www.w3.org/2000/svg\" height=\"24px\" viewBox=\"0 -960 960 960\">\n",
       "    <path d=\"M120-120v-720h720v720H120Zm60-500h600v-160H180v160Zm220 220h160v-160H400v160Zm0 220h160v-160H400v160ZM180-400h160v-160H180v160Zm440 0h160v-160H620v160ZM180-180h160v-160H180v160Zm440 0h160v-160H620v160Z\"/>\n",
       "  </svg>\n",
       "    </button>\n",
       "\n",
       "  <style>\n",
       "    .colab-df-container {\n",
       "      display:flex;\n",
       "      gap: 12px;\n",
       "    }\n",
       "\n",
       "    .colab-df-convert {\n",
       "      background-color: #E8F0FE;\n",
       "      border: none;\n",
       "      border-radius: 50%;\n",
       "      cursor: pointer;\n",
       "      display: none;\n",
       "      fill: #1967D2;\n",
       "      height: 32px;\n",
       "      padding: 0 0 0 0;\n",
       "      width: 32px;\n",
       "    }\n",
       "\n",
       "    .colab-df-convert:hover {\n",
       "      background-color: #E2EBFA;\n",
       "      box-shadow: 0px 1px 2px rgba(60, 64, 67, 0.3), 0px 1px 3px 1px rgba(60, 64, 67, 0.15);\n",
       "      fill: #174EA6;\n",
       "    }\n",
       "\n",
       "    .colab-df-buttons div {\n",
       "      margin-bottom: 4px;\n",
       "    }\n",
       "\n",
       "    [theme=dark] .colab-df-convert {\n",
       "      background-color: #3B4455;\n",
       "      fill: #D2E3FC;\n",
       "    }\n",
       "\n",
       "    [theme=dark] .colab-df-convert:hover {\n",
       "      background-color: #434B5C;\n",
       "      box-shadow: 0px 1px 3px 1px rgba(0, 0, 0, 0.15);\n",
       "      filter: drop-shadow(0px 1px 2px rgba(0, 0, 0, 0.3));\n",
       "      fill: #FFFFFF;\n",
       "    }\n",
       "  </style>\n",
       "\n",
       "    <script>\n",
       "      const buttonEl =\n",
       "        document.querySelector('#df-64b7a6d2-e13f-409c-b099-6ee58a9ed95a button.colab-df-convert');\n",
       "      buttonEl.style.display =\n",
       "        google.colab.kernel.accessAllowed ? 'block' : 'none';\n",
       "\n",
       "      async function convertToInteractive(key) {\n",
       "        const element = document.querySelector('#df-64b7a6d2-e13f-409c-b099-6ee58a9ed95a');\n",
       "        const dataTable =\n",
       "          await google.colab.kernel.invokeFunction('convertToInteractive',\n",
       "                                                    [key], {});\n",
       "        if (!dataTable) return;\n",
       "\n",
       "        const docLinkHtml = 'Like what you see? Visit the ' +\n",
       "          '<a target=\"_blank\" href=https://colab.research.google.com/notebooks/data_table.ipynb>data table notebook</a>'\n",
       "          + ' to learn more about interactive tables.';\n",
       "        element.innerHTML = '';\n",
       "        dataTable['output_type'] = 'display_data';\n",
       "        await google.colab.output.renderOutput(dataTable, element);\n",
       "        const docLink = document.createElement('div');\n",
       "        docLink.innerHTML = docLinkHtml;\n",
       "        element.appendChild(docLink);\n",
       "      }\n",
       "    </script>\n",
       "  </div>\n",
       "\n",
       "\n",
       "    <div id=\"df-c385ffe8-4ffa-45a7-bc00-859ec1147713\">\n",
       "      <button class=\"colab-df-quickchart\" onclick=\"quickchart('df-c385ffe8-4ffa-45a7-bc00-859ec1147713')\"\n",
       "                title=\"Suggest charts\"\n",
       "                style=\"display:none;\">\n",
       "\n",
       "<svg xmlns=\"http://www.w3.org/2000/svg\" height=\"24px\"viewBox=\"0 0 24 24\"\n",
       "     width=\"24px\">\n",
       "    <g>\n",
       "        <path d=\"M19 3H5c-1.1 0-2 .9-2 2v14c0 1.1.9 2 2 2h14c1.1 0 2-.9 2-2V5c0-1.1-.9-2-2-2zM9 17H7v-7h2v7zm4 0h-2V7h2v10zm4 0h-2v-4h2v4z\"/>\n",
       "    </g>\n",
       "</svg>\n",
       "      </button>\n",
       "\n",
       "<style>\n",
       "  .colab-df-quickchart {\n",
       "      --bg-color: #E8F0FE;\n",
       "      --fill-color: #1967D2;\n",
       "      --hover-bg-color: #E2EBFA;\n",
       "      --hover-fill-color: #174EA6;\n",
       "      --disabled-fill-color: #AAA;\n",
       "      --disabled-bg-color: #DDD;\n",
       "  }\n",
       "\n",
       "  [theme=dark] .colab-df-quickchart {\n",
       "      --bg-color: #3B4455;\n",
       "      --fill-color: #D2E3FC;\n",
       "      --hover-bg-color: #434B5C;\n",
       "      --hover-fill-color: #FFFFFF;\n",
       "      --disabled-bg-color: #3B4455;\n",
       "      --disabled-fill-color: #666;\n",
       "  }\n",
       "\n",
       "  .colab-df-quickchart {\n",
       "    background-color: var(--bg-color);\n",
       "    border: none;\n",
       "    border-radius: 50%;\n",
       "    cursor: pointer;\n",
       "    display: none;\n",
       "    fill: var(--fill-color);\n",
       "    height: 32px;\n",
       "    padding: 0;\n",
       "    width: 32px;\n",
       "  }\n",
       "\n",
       "  .colab-df-quickchart:hover {\n",
       "    background-color: var(--hover-bg-color);\n",
       "    box-shadow: 0 1px 2px rgba(60, 64, 67, 0.3), 0 1px 3px 1px rgba(60, 64, 67, 0.15);\n",
       "    fill: var(--button-hover-fill-color);\n",
       "  }\n",
       "\n",
       "  .colab-df-quickchart-complete:disabled,\n",
       "  .colab-df-quickchart-complete:disabled:hover {\n",
       "    background-color: var(--disabled-bg-color);\n",
       "    fill: var(--disabled-fill-color);\n",
       "    box-shadow: none;\n",
       "  }\n",
       "\n",
       "  .colab-df-spinner {\n",
       "    border: 2px solid var(--fill-color);\n",
       "    border-color: transparent;\n",
       "    border-bottom-color: var(--fill-color);\n",
       "    animation:\n",
       "      spin 1s steps(1) infinite;\n",
       "  }\n",
       "\n",
       "  @keyframes spin {\n",
       "    0% {\n",
       "      border-color: transparent;\n",
       "      border-bottom-color: var(--fill-color);\n",
       "      border-left-color: var(--fill-color);\n",
       "    }\n",
       "    20% {\n",
       "      border-color: transparent;\n",
       "      border-left-color: var(--fill-color);\n",
       "      border-top-color: var(--fill-color);\n",
       "    }\n",
       "    30% {\n",
       "      border-color: transparent;\n",
       "      border-left-color: var(--fill-color);\n",
       "      border-top-color: var(--fill-color);\n",
       "      border-right-color: var(--fill-color);\n",
       "    }\n",
       "    40% {\n",
       "      border-color: transparent;\n",
       "      border-right-color: var(--fill-color);\n",
       "      border-top-color: var(--fill-color);\n",
       "    }\n",
       "    60% {\n",
       "      border-color: transparent;\n",
       "      border-right-color: var(--fill-color);\n",
       "    }\n",
       "    80% {\n",
       "      border-color: transparent;\n",
       "      border-right-color: var(--fill-color);\n",
       "      border-bottom-color: var(--fill-color);\n",
       "    }\n",
       "    90% {\n",
       "      border-color: transparent;\n",
       "      border-bottom-color: var(--fill-color);\n",
       "    }\n",
       "  }\n",
       "</style>\n",
       "\n",
       "      <script>\n",
       "        async function quickchart(key) {\n",
       "          const quickchartButtonEl =\n",
       "            document.querySelector('#' + key + ' button');\n",
       "          quickchartButtonEl.disabled = true;  // To prevent multiple clicks.\n",
       "          quickchartButtonEl.classList.add('colab-df-spinner');\n",
       "          try {\n",
       "            const charts = await google.colab.kernel.invokeFunction(\n",
       "                'suggestCharts', [key], {});\n",
       "          } catch (error) {\n",
       "            console.error('Error during call to suggestCharts:', error);\n",
       "          }\n",
       "          quickchartButtonEl.classList.remove('colab-df-spinner');\n",
       "          quickchartButtonEl.classList.add('colab-df-quickchart-complete');\n",
       "        }\n",
       "        (() => {\n",
       "          let quickchartButtonEl =\n",
       "            document.querySelector('#df-c385ffe8-4ffa-45a7-bc00-859ec1147713 button');\n",
       "          quickchartButtonEl.style.display =\n",
       "            google.colab.kernel.accessAllowed ? 'block' : 'none';\n",
       "        })();\n",
       "      </script>\n",
       "    </div>\n",
       "\n",
       "    </div>\n",
       "  </div>\n"
      ],
      "text/plain": [
       "             time_on_task                                              \\\n",
       "                    count       mean        std        min        25%   \n",
       "satisfaction                                                            \n",
       "1                    20.0  60.250345  11.950349  30.682318  54.826496   \n",
       "2                    20.0  58.502725  13.772995  30.334076  49.322539   \n",
       "3                    20.0  66.003979  16.235523  38.721660  55.162928   \n",
       "4                    18.0  58.303124  18.169943  28.024318  50.017554   \n",
       "5                    22.0  62.478536  12.518060  32.157218  54.023626   \n",
       "\n",
       "                                               \n",
       "                    50%        75%        max  \n",
       "satisfaction                                   \n",
       "1             61.415526  64.172619  89.776269  \n",
       "2             58.549540  66.210826  82.268055  \n",
       "3             63.829606  77.605607  97.014766  \n",
       "4             57.917236  71.779603  95.774510  \n",
       "5             64.056000  69.317282  85.089333  "
      ]
     },
     "execution_count": 3,
     "metadata": {},
     "output_type": "execute_result"
    }
   ],
   "source": [
    "# Describe by satisfaction\n",
    "df.groupby('satisfaction').describe()"
   ]
  },
  {
   "cell_type": "code",
   "execution_count": 4,
   "metadata": {
    "colab": {
     "base_uri": "https://localhost:8080/"
    },
    "executionInfo": {
     "elapsed": 11,
     "status": "ok",
     "timestamp": 1752410933024,
     "user": {
      "displayName": "Leslie McFarlin",
      "userId": "01236583391427149381"
     },
     "user_tz": 240
    },
    "id": "qzW2IqInMxu9",
    "outputId": "01901f20-aa74-4da9-ef34-b9c7622d7fb3"
   },
   "outputs": [
    {
     "name": "stdout",
     "output_type": "stream",
     "text": [
      "ShapiroResult(statistic=np.float64(0.9865036939884573), pvalue=np.float64(0.4051241078138243))\n"
     ]
    }
   ],
   "source": [
    "# Test normality of time on task\n",
    "print(stats.shapiro(df['time_on_task']))"
   ]
  },
  {
   "cell_type": "markdown",
   "metadata": {
    "id": "WSAE9rhTN3iR"
   },
   "source": [
    "Given the p-value is greater than 0.05, we have to accept the null hypothesis that there is no difference between time on task's distribution and a normal distribution.\n",
    "\n",
    "Now we can talk about Satisfaction. One easy indicator is the balance of observiations for each rating. They're fairly equal in that one category has 22 observations, three have 20 observations, and one has 18 observations. We can also visualize satisfaction versus time on task using a KDE plot."
   ]
  },
  {
   "cell_type": "code",
   "execution_count": 5,
   "metadata": {
    "colab": {
     "base_uri": "https://localhost:8080/",
     "height": 472
    },
    "executionInfo": {
     "elapsed": 568,
     "status": "ok",
     "timestamp": 1752410940580,
     "user": {
      "displayName": "Leslie McFarlin",
      "userId": "01236583391427149381"
     },
     "user_tz": 240
    },
    "id": "iwZn7kgqN09q",
    "outputId": "8e272578-258e-4263-e902-ed0e77e6e2b2"
   },
   "outputs": [
    {
     "data": {
      "text/plain": [
       "<Axes: xlabel='time_on_task', ylabel='satisfaction'>"
      ]
     },
     "execution_count": 5,
     "metadata": {},
     "output_type": "execute_result"
    },
    {
     "data": {
      "image/png": "[encoded data removed]",
      "text/plain": [
       "<Figure size 640x480 with 2 Axes>"
      ]
     },
     "metadata": {},
     "output_type": "display_data"
    }
   ],
   "source": [
    "# In case lines are not smooth for contouring, add a jitter\n",
    "jittered_sat = df['satisfaction'] + np.random.normal(-0.05, 0.05, len(df))\n",
    "# Build a KDE plot\n",
    "sns.kdeplot(data=df, x='time_on_task', y=jittered_sat, fill=True, cmap='plasma', cbar=True)"
   ]
  },
  {
   "cell_type": "markdown",
   "metadata": {
    "id": "3Xjzw87iRps2"
   },
   "source": [
    "This appears to be unimodal and approximately normally distributed, so we can proceed to calculating the polyserial correlation.\n",
    "\n",
    "Calculating the polyserial correlation in Python is not easy, though. The best way to do it is actually bridging to R with [rpy2](https://rpy2.github.io/doc/v3.6.x/html/index.html) and then using the polycor library's ```polyserial``` function. (It can also be done in semopy, but that is for structural equation modeling, which is more complicated than what this tutorial is for.)"
   ]
  },
  {
   "cell_type": "code",
   "execution_count": 10,
   "metadata": {
    "executionInfo": {
     "elapsed": 3,
     "status": "ok",
     "timestamp": 1752411311225,
     "user": {
      "displayName": "Leslie McFarlin",
      "userId": "01236583391427149381"
     },
     "user_tz": 240
    },
    "id": "kgjLzfRbOvyQ"
   },
   "outputs": [],
   "source": [
    "# Install rpy2 - If you need to do this, uncomment the line below.\n",
    "#!pip install rpy2"
   ]
  },
  {
   "cell_type": "markdown",
   "metadata": {
    "id": "VbWL9CJi_eTX"
   },
   "source": [
    "If you're using conda here's the line for installation you will need:\n",
    "```\n",
    "conda install conda-forge::rpy2\n",
    "```"
   ]
  },
  {
   "cell_type": "code",
   "execution_count": 42,
   "metadata": {
    "executionInfo": {
     "elapsed": 46,
     "status": "ok",
     "timestamp": 1752413709472,
     "user": {
      "displayName": "Leslie McFarlin",
      "userId": "01236583391427149381"
     },
     "user_tz": 240
    },
    "id": "jr7_2VENUPd1"
   },
   "outputs": [],
   "source": [
    "# Necessary imports\n",
    "import rpy2\n",
    "import rpy2.robjects as ro\n",
    "from rpy2.robjects.vectors import IntVector\n",
    "from rpy2.robjects.packages import importr, isinstalled\n",
    "from rpy2.robjects import pandas2ri"
   ]
  },
  {
   "cell_type": "code",
   "execution_count": 16,
   "metadata": {
    "colab": {
     "base_uri": "https://localhost:8080/"
    },
    "executionInfo": {
     "elapsed": 20254,
     "status": "ok",
     "timestamp": 1752411879400,
     "user": {
      "displayName": "Leslie McFarlin",
      "userId": "01236583391427149381"
     },
     "user_tz": 240
    },
    "id": "OdHmR_oI32QP",
    "outputId": "98030a79-d488-4088-b9c3-82d9f39e5a54"
   },
   "outputs": [
    {
     "name": "stderr",
     "output_type": "stream",
     "text": [
      "WARNING:rpy2.rinterface_lib.callbacks:R[write to console]: Installing package into ‘/usr/local/lib/R/site-library’\n",
      "(as ‘lib’ is unspecified)\n",
      "\n",
      "WARNING:rpy2.rinterface_lib.callbacks:R[write to console]: also installing the dependencies ‘mvtnorm’, ‘admisc’\n",
      "\n",
      "\n",
      "WARNING:rpy2.rinterface_lib.callbacks:R[write to console]: trying URL 'https://cran.rstudio.com/src/contrib/mvtnorm_1.3-3.tar.gz'\n",
      "\n",
      "WARNING:rpy2.rinterface_lib.callbacks:R[write to console]: trying URL 'https://cran.rstudio.com/src/contrib/admisc_0.38.tar.gz'\n",
      "\n",
      "WARNING:rpy2.rinterface_lib.callbacks:R[write to console]: trying URL 'https://cran.rstudio.com/src/contrib/polycor_0.8-1.tar.gz'\n",
      "\n",
      "WARNING:rpy2.rinterface_lib.callbacks:R[write to console]: \n",
      "\n",
      "WARNING:rpy2.rinterface_lib.callbacks:R[write to console]: \n",
      "WARNING:rpy2.rinterface_lib.callbacks:R[write to console]: The downloaded source packages are in\n",
      "\t‘/tmp/RtmpiiqNV6/downloaded_packages’\n",
      "WARNING:rpy2.rinterface_lib.callbacks:R[write to console]: \n",
      "WARNING:rpy2.rinterface_lib.callbacks:R[write to console]: \n",
      "\n"
     ]
    }
   ],
   "source": [
    "# Import the needed R libraries\n",
    "utils = importr('utils')\n",
    "\n",
    "# Don't go through the install process if don't need to\n",
    "if not isinstalled('polycor'):\n",
    "  utils.install_packages('polycor')\n",
    "\n",
    "# Set the import\n",
    "polycor = importr('polycor')"
   ]
  },
  {
   "cell_type": "code",
   "execution_count": 13,
   "metadata": {
    "executionInfo": {
     "elapsed": 15,
     "status": "ok",
     "timestamp": 1752411414531,
     "user": {
      "displayName": "Leslie McFarlin",
      "userId": "01236583391427149381"
     },
     "user_tz": 240
    },
    "id": "FWYceYZo2X4u"
   },
   "outputs": [],
   "source": [
    "# Convert the pandas dataframe to an R dataframe by creating a context and using a converter\n",
    "with (ro.default_converter + pandas2ri.converter).context():\n",
    "  r_df = ro.conversion.get_conversion().py2rpy(df)"
   ]
  },
  {
   "cell_type": "code",
   "execution_count": 40,
   "metadata": {
    "executionInfo": {
     "elapsed": 41,
     "status": "ok",
     "timestamp": 1752413442912,
     "user": {
      "displayName": "Leslie McFarlin",
      "userId": "01236583391427149381"
     },
     "user_tz": 240
    },
    "id": "y76hvPmn86aQ"
   },
   "outputs": [],
   "source": [
    "# Convert satisfaction to an ordered factor\n",
    "r_satisfaction = ro.r['ordered'](r_df.rx2('satisfaction'), levels=IntVector([1, 2, 3, 4, 5]))\n",
    "\n",
    "# convert to Float Vector\n",
    "r_time_on_task = r_df.rx2('time_on_task')"
   ]
  },
  {
   "cell_type": "code",
   "execution_count": 41,
   "metadata": {
    "colab": {
     "base_uri": "https://localhost:8080/"
    },
    "executionInfo": {
     "elapsed": 13,
     "status": "ok",
     "timestamp": 1752413463539,
     "user": {
      "displayName": "Leslie McFarlin",
      "userId": "01236583391427149381"
     },
     "user_tz": 240
    },
    "id": "wMzEyFWs2pg7",
    "outputId": "eacc3999-fc4c-476e-df82-e7e29ca8f0dc"
   },
   "outputs": [
    {
     "name": "stdout",
     "output_type": "stream",
     "text": [
      "Polyserial correlation: 0.049100187842022726\n"
     ]
    }
   ],
   "source": [
    "# Calculate the polyserial correlation via polyserial()\n",
    "r_corr = polycor.polyserial(r_time_on_task, r_satisfaction)\n",
    "\n",
    "# Show\n",
    "print(f'Polyserial correlation: {r_corr[0]}')"
   ]
  },
  {
   "cell_type": "markdown",
   "metadata": {
    "id": "85OHAVdg_22h"
   },
   "source": [
    "The polyserial correlation (~0.0491) indicates a very weak positive relationship between time_on_task and satisfaction.\n",
    "\n",
    "But, is the relationship statistically significant? Let's find out using ```hetcor()``` also from polychor."
   ]
  },
  {
   "cell_type": "code",
   "execution_count": 57,
   "metadata": {
    "executionInfo": {
     "elapsed": 42,
     "status": "ok",
     "timestamp": 1752414429775,
     "user": {
      "displayName": "Leslie McFarlin",
      "userId": "01236583391427149381"
     },
     "user_tz": 240
    },
    "id": "zgaIW4YcAJ2N"
   },
   "outputs": [],
   "source": [
    "# Coerce satisfaction to ordered factor (levels 1-5 assumed)\n",
    "r_df[r_df.names.index(\"satisfaction\")] = ro.r[\"ordered\"](r_df.rx2(\"satisfaction\"), levels=IntVector([1, 2, 3, 4, 5]))\n",
    "\n",
    "# Apply hetcor\n",
    "r_hetcor = polycor.hetcor(r_df, use=\"complete.obs\")"
   ]
  },
  {
   "cell_type": "code",
   "execution_count": 56,
   "metadata": {
    "colab": {
     "base_uri": "https://localhost:8080/"
    },
    "executionInfo": {
     "elapsed": 14,
     "status": "ok",
     "timestamp": 1752414418446,
     "user": {
      "displayName": "Leslie McFarlin",
      "userId": "01236583391427149381"
     },
     "user_tz": 240
    },
    "id": "ptPhf88tCRIc",
    "outputId": "079c33fb-9b3c-4658-9ba0-0d98164e15e5"
   },
   "outputs": [
    {
     "name": "stdout",
     "output_type": "stream",
     "text": [
      "\n",
      "Two-Step Estimates\n",
      "\n",
      "Correlations/Type of Correlation:\n",
      "             time_on_task satisfaction\n",
      "time_on_task            1   Polyserial\n",
      "satisfaction      0.05048            1\n",
      "\n",
      "Standard Errors:\n",
      "[1] \"\"       \"0.1044\"\n",
      "\n",
      "n = 100 \n",
      "\n",
      "P-values for Tests of Bivariate Normality:\n",
      "[1] \"\"       \"0.5022\"\n",
      "\n"
     ]
    }
   ],
   "source": [
    "# Show results\n",
    "print(r_hetcor)"
   ]
  },
  {
   "cell_type": "markdown",
   "metadata": {
    "id": "keRIWgraCkdt"
   },
   "source": [
    "From the above output, we can see that the correlation is not statistically significant."
   ]
  }
 ],
 "metadata": {
  "colab": {
   "authorship_tag": "ABX9TyPf3PB+fZPHtmkPz2Ohhf+e",
   "provenance": []
  },
  "kernelspec": {
   "display_name": "Python 3",
   "name": "python3"
  },
  "language_info": {
   "name": "python"
  }
 },
 "nbformat": 4,
 "nbformat_minor": 0
}