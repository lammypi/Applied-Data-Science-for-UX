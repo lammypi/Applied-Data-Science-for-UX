{
 "cells": [
  {
   "cell_type": "markdown",
   "metadata": {
    "id": "6rCgNXelRS2x"
   },
   "source": [
    "# Rank Biserial Correlation $r_{rb}$"
   ]
  },
  {
   "cell_type": "markdown",
   "metadata": {
    "id": "mZyru-iSRYkq"
   },
   "source": [
    "The rank biserial correlation is a nonparametric correlation that describes the relationship between a dichotomous variable and an ordinal variable. If you have some passing familiarity with non-parametric statistical tests, then you may recognize it as being used in the Mann Whitney U test. The point of the rank biserial correlation is to indicate the proportion of favorable vs. unfavorable rank comparisons between the groups of the dichotomous variable.\n",
    "\n",
    "An example of a use case scenario is if you wanted to compare the frustration ratings for opening a new packaging design between right-hand dominant people with left-hand dominant people.\n",
    "- dichotomous variable: Dominant hand\n",
    "- ordinal variable: Frustration\n",
    "\n",
    "The general form of this correlation is:\n",
    "\n",
    "$r_{rb} = 2*\\frac{(Y_{1} - Y_{0})}{n}$\n",
    "\n",
    "- $Y_{1}, Y_{0}$ are means of the ranks computed for data pairs.\n",
    "- _n_ is the number of observations\n",
    "\n",
    "__Interpreting $r_{rb}$__\n",
    "\n",
    "As with many other correlation values, $r_{rb}$ is within the range of [-1, 1], where 0 indicates no correlation.\n",
    "\n",
    "|Correlation Coefficient | Interpretation |\n",
    "|---------------------------|----------------|\n",
    "| 0.00 – 0.10 | Negligible or trivial |\n",
    "| 0.10 – 0.30 | Weak |\n",
    "| 0.30 – 0.50 | Moderate |\n",
    "| 0.50 – 1.00 | Strong |\n",
    "\n",
    "__Assumptions__\n",
    "1. One variable is dichotomous, and the other is ordinal."
   ]
  },
  {
   "cell_type": "markdown",
   "metadata": {
    "id": "IEHSGRAJZybi"
   },
   "source": [
    "## Python Example"
   ]
  },
  {
   "cell_type": "markdown",
   "metadata": {
    "id": "kEC0tN9ibb7L"
   },
   "source": [
    "To illustrate the use of the rank biserial correlation, I will generate 100 observations randomly."
   ]
  },
  {
   "cell_type": "code",
   "execution_count": 1,
   "metadata": {
    "executionInfo": {
     "elapsed": 1210,
     "status": "ok",
     "timestamp": 1752420575404,
     "user": {
      "displayName": "Leslie McFarlin",
      "userId": "01236583391427149381"
     },
     "user_tz": 240
    },
    "id": "47klvWQBQlV8"
   },
   "outputs": [],
   "source": [
    "# Import\n",
    "import numpy as np\n",
    "import pandas as pd\n",
    "\n",
    "# Correlation coefficient\n",
    "import scipy.stats as stats\n",
    "\n",
    "# Visualizations\n",
    "import matplotlib.pyplot as plt\n",
    "import seaborn as sns"
   ]
  },
  {
   "cell_type": "code",
   "execution_count": 13,
   "metadata": {
    "executionInfo": {
     "elapsed": 7,
     "status": "ok",
     "timestamp": 1752421344961,
     "user": {
      "displayName": "Leslie McFarlin",
      "userId": "01236583391427149381"
     },
     "user_tz": 240
    },
    "id": "k3J87_PAZ40t"
   },
   "outputs": [],
   "source": [
    "# Seed\n",
    "np.random.seed(10)\n",
    "\n",
    "# Create the dataframe\n",
    "df = pd.DataFrame(data={'handedness': list(np.random.randint(0, 2, 100)),\n",
    "                        'frustration': list(np.random.randint(1, 6, 100))})"
   ]
  },
  {
   "cell_type": "markdown",
   "metadata": {
    "id": "MvFC2Bnvbwiw"
   },
   "source": [
    "In the above dataset assume the following:\n",
    "- Handedness: 0 is left hand dominant, 1 is right hand dominant.\n",
    "- Frustration: 1 is not at all frustrated, 5 is very frustrated."
   ]
  },
  {
   "cell_type": "code",
   "execution_count": 21,
   "metadata": {
    "colab": {
     "base_uri": "https://localhost:8080/"
    },
    "executionInfo": {
     "elapsed": 14,
     "status": "ok",
     "timestamp": 1752421480487,
     "user": {
      "displayName": "Leslie McFarlin",
      "userId": "01236583391427149381"
     },
     "user_tz": 240
    },
    "id": "5htp_WSxbvYV",
    "outputId": "3c4fa875-9cf0-4781-8816-e8c57c2b39e5"
   },
   "outputs": [
    {
     "name": "stdout",
     "output_type": "stream",
     "text": [
      "<class 'pandas.core.frame.DataFrame'>\n",
      "RangeIndex: 100 entries, 0 to 99\n",
      "Data columns (total 2 columns):\n",
      " #   Column       Non-Null Count  Dtype   \n",
      "---  ------       --------------  -----   \n",
      " 0   handedness   100 non-null    category\n",
      " 1   frustration  100 non-null    int64   \n",
      "dtypes: category(1), int64(1)\n",
      "memory usage: 1.1 KB\n"
     ]
    }
   ],
   "source": [
    "# Turn handedness into a categorical variable\n",
    "df['handedness'] = df['handedness'].astype('category')\n",
    "\n",
    "# Look at the info\n",
    "df.info()"
   ]
  },
  {
   "cell_type": "code",
   "execution_count": 34,
   "metadata": {
    "colab": {
     "base_uri": "https://localhost:8080/",
     "height": 175
    },
    "executionInfo": {
     "elapsed": 91,
     "status": "ok",
     "timestamp": 1752421835851,
     "user": {
      "displayName": "Leslie McFarlin",
      "userId": "01236583391427149381"
     },
     "user_tz": 240
    },
    "id": "t3vawe17cCkS",
    "outputId": "cc5beb25-850a-4079-e140-926d2cb9b67b"
   },
   "outputs": [
    {
     "data": {
      "application/vnd.google.colaboratory.intrinsic+json": {
       "summary": "{\n  \"name\": \"pd\",\n  \"rows\": 3,\n  \"fields\": [\n    {\n      \"column\": \"handedness\",\n      \"properties\": {\n        \"dtype\": \"string\",\n        \"num_unique_values\": 3,\n        \"samples\": [\n          0,\n          1,\n          \"All\"\n        ],\n        \"semantic_type\": \"\",\n        \"description\": \"\"\n      }\n    },\n    {\n      \"column\": 1,\n      \"properties\": {\n        \"dtype\": \"number\",\n        \"std\": 6,\n        \"min\": 10,\n        \"max\": 22,\n        \"num_unique_values\": 3,\n        \"samples\": [\n          12,\n          10,\n          22\n        ],\n        \"semantic_type\": \"\",\n        \"description\": \"\"\n      }\n    },\n    {\n      \"column\": 2,\n      \"properties\": {\n        \"dtype\": \"number\",\n        \"std\": 8,\n        \"min\": 12,\n        \"max\": 28,\n        \"num_unique_values\": 3,\n        \"samples\": [\n          16,\n          12,\n          28\n        ],\n        \"semantic_type\": \"\",\n        \"description\": \"\"\n      }\n    },\n    {\n      \"column\": 3,\n      \"properties\": {\n        \"dtype\": \"number\",\n        \"std\": 4,\n        \"min\": 8,\n        \"max\": 16,\n        \"num_unique_values\": 2,\n        \"samples\": [\n          16,\n          8\n        ],\n        \"semantic_type\": \"\",\n        \"description\": \"\"\n      }\n    },\n    {\n      \"column\": 4,\n      \"properties\": {\n        \"dtype\": \"number\",\n        \"std\": 5,\n        \"min\": 9,\n        \"max\": 19,\n        \"num_unique_values\": 3,\n        \"samples\": [\n          10,\n          9\n        ],\n        \"semantic_type\": \"\",\n        \"description\": \"\"\n      }\n    },\n    {\n      \"column\": 5,\n      \"properties\": {\n        \"dtype\": \"number\",\n        \"std\": 4,\n        \"min\": 6,\n        \"max\": 15,\n        \"num_unique_values\": 3,\n        \"samples\": [\n          9,\n          6\n        ],\n        \"semantic_type\": \"\",\n        \"description\": \"\"\n      }\n    },\n    {\n      \"column\": \"All\",\n      \"properties\": {\n        \"dtype\": \"number\",\n        \"std\": 29,\n        \"min\": 45,\n        \"max\": 100,\n        \"num_unique_values\": 3,\n        \"samples\": [\n          55,\n          45\n        ],\n        \"semantic_type\": \"\",\n        \"description\": \"\"\n      }\n    }\n  ]\n}",
       "type": "dataframe"
      },
      "text/html": [
       "\n",
       "  <div id=\"df-307cc495-3078-411b-895d-2f6b18c99537\" class=\"colab-df-container\">\n",
       "    <div>\n",
       "<style scoped>\n",
       "    .dataframe tbody tr th:only-of-type {\n",
       "        vertical-align: middle;\n",
       "    }\n",
       "\n",
       "    .dataframe tbody tr th {\n",
       "        vertical-align: top;\n",
       "    }\n",
       "\n",
       "    .dataframe thead th {\n",
       "        text-align: right;\n",
       "    }\n",
       "</style>\n",
       "<table border=\"1\" class=\"dataframe\">\n",
       "  <thead>\n",
       "    <tr style=\"text-align: right;\">\n",
       "      <th>frustration</th>\n",
       "      <th>1</th>\n",
       "      <th>2</th>\n",
       "      <th>3</th>\n",
       "      <th>4</th>\n",
       "      <th>5</th>\n",
       "      <th>All</th>\n",
       "    </tr>\n",
       "    <tr>\n",
       "      <th>handedness</th>\n",
       "      <th></th>\n",
       "      <th></th>\n",
       "      <th></th>\n",
       "      <th></th>\n",
       "      <th></th>\n",
       "      <th></th>\n",
       "    </tr>\n",
       "  </thead>\n",
       "  <tbody>\n",
       "    <tr>\n",
       "      <th>0</th>\n",
       "      <td>12</td>\n",
       "      <td>16</td>\n",
       "      <td>8</td>\n",
       "      <td>10</td>\n",
       "      <td>9</td>\n",
       "      <td>55</td>\n",
       "    </tr>\n",
       "    <tr>\n",
       "      <th>1</th>\n",
       "      <td>10</td>\n",
       "      <td>12</td>\n",
       "      <td>8</td>\n",
       "      <td>9</td>\n",
       "      <td>6</td>\n",
       "      <td>45</td>\n",
       "    </tr>\n",
       "    <tr>\n",
       "      <th>All</th>\n",
       "      <td>22</td>\n",
       "      <td>28</td>\n",
       "      <td>16</td>\n",
       "      <td>19</td>\n",
       "      <td>15</td>\n",
       "      <td>100</td>\n",
       "    </tr>\n",
       "  </tbody>\n",
       "</table>\n",
       "</div>\n",
       "    <div class=\"colab-df-buttons\">\n",
       "\n",
       "  <div class=\"colab-df-container\">\n",
       "    <button class=\"colab-df-convert\" onclick=\"convertToInteractive('df-307cc495-3078-411b-895d-2f6b18c99537')\"\n",
       "            title=\"Convert this dataframe to an interactive table.\"\n",
       "            style=\"display:none;\">\n",
       "\n",
       "  <svg xmlns=\"http://www.w3.org/2000/svg\" height=\"24px\" viewBox=\"0 -960 960 960\">\n",
       "    <path d=\"M120-120v-720h720v720H120Zm60-500h600v-160H180v160Zm220 220h160v-160H400v160Zm0 220h160v-160H400v160ZM180-400h160v-160H180v160Zm440 0h160v-160H620v160ZM180-180h160v-160H180v160Zm440 0h160v-160H620v160Z\"/>\n",
       "  </svg>\n",
       "    </button>\n",
       "\n",
       "  <style>\n",
       "    .colab-df-container {\n",
       "      display:flex;\n",
       "      gap: 12px;\n",
       "    }\n",
       "\n",
       "    .colab-df-convert {\n",
       "      background-color: #E8F0FE;\n",
       "      border: none;\n",
       "      border-radius: 50%;\n",
       "      cursor: pointer;\n",
       "      display: none;\n",
       "      fill: #1967D2;\n",
       "      height: 32px;\n",
       "      padding: 0 0 0 0;\n",
       "      width: 32px;\n",
       "    }\n",
       "\n",
       "    .colab-df-convert:hover {\n",
       "      background-color: #E2EBFA;\n",
       "      box-shadow: 0px 1px 2px rgba(60, 64, 67, 0.3), 0px 1px 3px 1px rgba(60, 64, 67, 0.15);\n",
       "      fill: #174EA6;\n",
       "    }\n",
       "\n",
       "    .colab-df-buttons div {\n",
       "      margin-bottom: 4px;\n",
       "    }\n",
       "\n",
       "    [theme=dark] .colab-df-convert {\n",
       "      background-color: #3B4455;\n",
       "      fill: #D2E3FC;\n",
       "    }\n",
       "\n",
       "    [theme=dark] .colab-df-convert:hover {\n",
       "      background-color: #434B5C;\n",
       "      box-shadow: 0px 1px 3px 1px rgba(0, 0, 0, 0.15);\n",
       "      filter: drop-shadow(0px 1px 2px rgba(0, 0, 0, 0.3));\n",
       "      fill: #FFFFFF;\n",
       "    }\n",
       "  </style>\n",
       "\n",
       "    <script>\n",
       "      const buttonEl =\n",
       "        document.querySelector('#df-307cc495-3078-411b-895d-2f6b18c99537 button.colab-df-convert');\n",
       "      buttonEl.style.display =\n",
       "        google.colab.kernel.accessAllowed ? 'block' : 'none';\n",
       "\n",
       "      async function convertToInteractive(key) {\n",
       "        const element = document.querySelector('#df-307cc495-3078-411b-895d-2f6b18c99537');\n",
       "        const dataTable =\n",
       "          await google.colab.kernel.invokeFunction('convertToInteractive',\n",
       "                                                    [key], {});\n",
       "        if (!dataTable) return;\n",
       "\n",
       "        const docLinkHtml = 'Like what you see? Visit the ' +\n",
       "          '<a target=\"_blank\" href=https://colab.research.google.com/notebooks/data_table.ipynb>data table notebook</a>'\n",
       "          + ' to learn more about interactive tables.';\n",
       "        element.innerHTML = '';\n",
       "        dataTable['output_type'] = 'display_data';\n",
       "        await google.colab.output.renderOutput(dataTable, element);\n",
       "        const docLink = document.createElement('div');\n",
       "        docLink.innerHTML = docLinkHtml;\n",
       "        element.appendChild(docLink);\n",
       "      }\n",
       "    </script>\n",
       "  </div>\n",
       "\n",
       "\n",
       "    <div id=\"df-2271c6d5-91d3-4b60-b675-1332ce07f1cd\">\n",
       "      <button class=\"colab-df-quickchart\" onclick=\"quickchart('df-2271c6d5-91d3-4b60-b675-1332ce07f1cd')\"\n",
       "                title=\"Suggest charts\"\n",
       "                style=\"display:none;\">\n",
       "\n",
       "<svg xmlns=\"http://www.w3.org/2000/svg\" height=\"24px\"viewBox=\"0 0 24 24\"\n",
       "     width=\"24px\">\n",
       "    <g>\n",
       "        <path d=\"M19 3H5c-1.1 0-2 .9-2 2v14c0 1.1.9 2 2 2h14c1.1 0 2-.9 2-2V5c0-1.1-.9-2-2-2zM9 17H7v-7h2v7zm4 0h-2V7h2v10zm4 0h-2v-4h2v4z\"/>\n",
       "    </g>\n",
       "</svg>\n",
       "      </button>\n",
       "\n",
       "<style>\n",
       "  .colab-df-quickchart {\n",
       "      --bg-color: #E8F0FE;\n",
       "      --fill-color: #1967D2;\n",
       "      --hover-bg-color: #E2EBFA;\n",
       "      --hover-fill-color: #174EA6;\n",
       "      --disabled-fill-color: #AAA;\n",
       "      --disabled-bg-color: #DDD;\n",
       "  }\n",
       "\n",
       "  [theme=dark] .colab-df-quickchart {\n",
       "      --bg-color: #3B4455;\n",
       "      --fill-color: #D2E3FC;\n",
       "      --hover-bg-color: #434B5C;\n",
       "      --hover-fill-color: #FFFFFF;\n",
       "      --disabled-bg-color: #3B4455;\n",
       "      --disabled-fill-color: #666;\n",
       "  }\n",
       "\n",
       "  .colab-df-quickchart {\n",
       "    background-color: var(--bg-color);\n",
       "    border: none;\n",
       "    border-radius: 50%;\n",
       "    cursor: pointer;\n",
       "    display: none;\n",
       "    fill: var(--fill-color);\n",
       "    height: 32px;\n",
       "    padding: 0;\n",
       "    width: 32px;\n",
       "  }\n",
       "\n",
       "  .colab-df-quickchart:hover {\n",
       "    background-color: var(--hover-bg-color);\n",
       "    box-shadow: 0 1px 2px rgba(60, 64, 67, 0.3), 0 1px 3px 1px rgba(60, 64, 67, 0.15);\n",
       "    fill: var(--button-hover-fill-color);\n",
       "  }\n",
       "\n",
       "  .colab-df-quickchart-complete:disabled,\n",
       "  .colab-df-quickchart-complete:disabled:hover {\n",
       "    background-color: var(--disabled-bg-color);\n",
       "    fill: var(--disabled-fill-color);\n",
       "    box-shadow: none;\n",
       "  }\n",
       "\n",
       "  .colab-df-spinner {\n",
       "    border: 2px solid var(--fill-color);\n",
       "    border-color: transparent;\n",
       "    border-bottom-color: var(--fill-color);\n",
       "    animation:\n",
       "      spin 1s steps(1) infinite;\n",
       "  }\n",
       "\n",
       "  @keyframes spin {\n",
       "    0% {\n",
       "      border-color: transparent;\n",
       "      border-bottom-color: var(--fill-color);\n",
       "      border-left-color: var(--fill-color);\n",
       "    }\n",
       "    20% {\n",
       "      border-color: transparent;\n",
       "      border-left-color: var(--fill-color);\n",
       "      border-top-color: var(--fill-color);\n",
       "    }\n",
       "    30% {\n",
       "      border-color: transparent;\n",
       "      border-left-color: var(--fill-color);\n",
       "      border-top-color: var(--fill-color);\n",
       "      border-right-color: var(--fill-color);\n",
       "    }\n",
       "    40% {\n",
       "      border-color: transparent;\n",
       "      border-right-color: var(--fill-color);\n",
       "      border-top-color: var(--fill-color);\n",
       "    }\n",
       "    60% {\n",
       "      border-color: transparent;\n",
       "      border-right-color: var(--fill-color);\n",
       "    }\n",
       "    80% {\n",
       "      border-color: transparent;\n",
       "      border-right-color: var(--fill-color);\n",
       "      border-bottom-color: var(--fill-color);\n",
       "    }\n",
       "    90% {\n",
       "      border-color: transparent;\n",
       "      border-bottom-color: var(--fill-color);\n",
       "    }\n",
       "  }\n",
       "</style>\n",
       "\n",
       "      <script>\n",
       "        async function quickchart(key) {\n",
       "          const quickchartButtonEl =\n",
       "            document.querySelector('#' + key + ' button');\n",
       "          quickchartButtonEl.disabled = true;  // To prevent multiple clicks.\n",
       "          quickchartButtonEl.classList.add('colab-df-spinner');\n",
       "          try {\n",
       "            const charts = await google.colab.kernel.invokeFunction(\n",
       "                'suggestCharts', [key], {});\n",
       "          } catch (error) {\n",
       "            console.error('Error during call to suggestCharts:', error);\n",
       "          }\n",
       "          quickchartButtonEl.classList.remove('colab-df-spinner');\n",
       "          quickchartButtonEl.classList.add('colab-df-quickchart-complete');\n",
       "        }\n",
       "        (() => {\n",
       "          let quickchartButtonEl =\n",
       "            document.querySelector('#df-2271c6d5-91d3-4b60-b675-1332ce07f1cd button');\n",
       "          quickchartButtonEl.style.display =\n",
       "            google.colab.kernel.accessAllowed ? 'block' : 'none';\n",
       "        })();\n",
       "      </script>\n",
       "    </div>\n",
       "\n",
       "    </div>\n",
       "  </div>\n"
      ],
      "text/plain": [
       "frustration   1   2   3   4   5  All\n",
       "handedness                          \n",
       "0            12  16   8  10   9   55\n",
       "1            10  12   8   9   6   45\n",
       "All          22  28  16  19  15  100"
      ]
     },
     "execution_count": 34,
     "metadata": {},
     "output_type": "execute_result"
    }
   ],
   "source": [
    "# Describe via crosstabs\n",
    "pd.crosstab(df['handedness'], df['frustration'], margins=True)"
   ]
  },
  {
   "cell_type": "code",
   "execution_count": 43,
   "metadata": {
    "colab": {
     "base_uri": "https://localhost:8080/",
     "height": 487
    },
    "executionInfo": {
     "elapsed": 189,
     "status": "ok",
     "timestamp": 1752422170615,
     "user": {
      "displayName": "Leslie McFarlin",
      "userId": "01236583391427149381"
     },
     "user_tz": 240
    },
    "id": "CBZJCEnzcGwE",
    "outputId": "cf3200a3-1dd5-4b33-83a1-30a30c705049"
   },
   "outputs": [
    {
     "data": {
      "image/png": "[encoded data removed]",
      "text/plain": [
       "<Figure size 640x480 with 1 Axes>"
      ]
     },
     "metadata": {},
     "output_type": "display_data"
    }
   ],
   "source": [
    "# Visualize\n",
    "sns.countplot(y='frustration', hue='handedness', data=df)\n",
    "# Bar annotations\n",
    "plt.bar_label(plt.gca().containers[0])\n",
    "plt.bar_label(plt.gca().containers[1])\n",
    "\n",
    "# Title\n",
    "plt.title('Frustration Ratings per Dominant Hand')\n",
    "\n",
    "# Legend\n",
    "plt.legend(loc='lower right', labels=['Left', 'Right'], title='Hand Dominance')\n",
    "\n",
    "# Display\n",
    "plt.tight_layout()\n",
    "plt.show()"
   ]
  },
  {
   "cell_type": "markdown",
   "metadata": {
    "id": "QjYaV34ZhK0c"
   },
   "source": [
    "In python, the easiest way to get the rank biserial correlation is to run a Mann-Whitney U test and calculate the correlation manually."
   ]
  },
  {
   "cell_type": "code",
   "execution_count": 44,
   "metadata": {
    "executionInfo": {
     "elapsed": 9,
     "status": "ok",
     "timestamp": 1752422923933,
     "user": {
      "displayName": "Leslie McFarlin",
      "userId": "01236583391427149381"
     },
     "user_tz": 240
    },
    "id": "LKU7nmX-d-z5"
   },
   "outputs": [],
   "source": [
    "# subset left and right\n",
    "left_hand = df[df['handedness'] == 0]['frustration']\n",
    "right_hand = df[df['handedness'] == 1]['frustration']\n",
    "\n",
    "# Set up the test\n",
    "u, p = stats.mannwhitneyu(left_hand, right_hand, alternative='two-sided')"
   ]
  },
  {
   "cell_type": "code",
   "execution_count": 49,
   "metadata": {
    "colab": {
     "base_uri": "https://localhost:8080/"
    },
    "executionInfo": {
     "elapsed": 46,
     "status": "ok",
     "timestamp": 1752423243929,
     "user": {
      "displayName": "Leslie McFarlin",
      "userId": "01236583391427149381"
     },
     "user_tz": 240
    },
    "id": "RML66_NMi72j",
    "outputId": "f2bb5117-cdba-4c9e-e207-991e15c8e25c"
   },
   "outputs": [
    {
     "name": "stdout",
     "output_type": "stream",
     "text": [
      "Rank biserial correlation = 0.007676767676767726 | p-value: 0.9490732935909326\n"
     ]
    }
   ],
   "source": [
    "# Get sizes of each group\n",
    "n_left = len(left_hand)\n",
    "n_right = len(right_hand)\n",
    "\n",
    "# Calculate the r_rb\n",
    "r_rb = 2 * u / (n_left * n_right) - 1\n",
    "\n",
    "# Show\n",
    "print(f'Rank biserial correlation = {r_rb} | p-value: {p}')"
   ]
  },
  {
   "cell_type": "markdown",
   "metadata": {
    "id": "x3l7qa7pjy8I"
   },
   "source": [
    "As can be seen above, the correlation is practically non-existent. To see if it is significant, you can use p value generated from the Mann Whitney test. Unsurprisingly, it is not significant for this weak correlation."
   ]
  }
 ],
 "metadata": {
  "colab": {
   "authorship_tag": "ABX9TyOzeRZM2S1IFM1PDVEtNFAR",
   "provenance": []
  },
  "kernelspec": {
   "display_name": "Python 3",
   "name": "python3"
  },
  "language_info": {
   "name": "python"
  }
 },
 "nbformat": 4,
 "nbformat_minor": 0
}