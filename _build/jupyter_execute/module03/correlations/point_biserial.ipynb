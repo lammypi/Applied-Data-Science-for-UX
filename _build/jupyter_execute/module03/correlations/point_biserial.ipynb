{
 "cells": [
  {
   "cell_type": "markdown",
   "metadata": {
    "id": "qrlTofczqyJs"
   },
   "source": [
    "# Point Biserial Correlation $(r_{pb})$"
   ]
  },
  {
   "cell_type": "markdown",
   "metadata": {
    "id": "yd5SDCaurAcm"
   },
   "source": [
    "Here is where we start mixing data types. The point biserial correlation measures the strength of a relation between a dichotomous variable and a continuous variable. It assumes a linear relationship between the two variables.\n",
    "\n",
    "As with most other correlations, the range of the point biserial correlation is [-1, 1]. Some instances where you might want to use point biserial correlation could be:\n",
    "- Strength of the relationship between task success (0 = failed, 1 = completed) and SUS score.\n",
    "- Mobile OS (0 = iOS, 1 = Android) and error count during task completion.\n",
    "\n",
    "__Assumptions__\n",
    "\n",
    "1. One variable is dichotomous (two categories) and another is continuous.\n",
    "2. There are no outliers among the continuous variable values associated with each category of the dichotomous variable.\n",
    "3. Continuous variables for each category of the dichotomous variable should be approximately normally distributed.\n",
    "4. Continuous variables for each category of the dichotomous variable should have equal variances.\n",
    "\n",
    "The formula for the point biserial correlation is:\n",
    "\n",
    "$r_{pb} = \\frac{\\mu_{1} - \\mu_{0}}{s}\\sqrt{\\frac{n_{1}n_{0}}{n^{2}}}$\n",
    "\n",
    "- $\\mu_{0}, \\mu_{1}$ are the means of the continuous variables associated with each category of the dichotomous variable.\n",
    "- $s$ is the standard deviation of the entire continuous variable (not broken out by category).\n",
    "- $n_{0}, n_{1}$ are the sample sizes for each category.\n",
    "- $n$ is the size of the full sample set\n",
    "\n",
    "__How to Interpret (assumes absolute values of $r_{pb}$)__\n",
    "\n",
    "|Correlation Coefficient | Interpretation |\n",
    "|---------------------------|----------------|\n",
    "| 0.00 – 0.10 | Negligible or trivial |\n",
    "| 0.10 – 0.30 | Weak |\n",
    "| 0.30 – 0.50 | Moderate |\n",
    "| 0.50 – 1.00 | Strong |"
   ]
  },
  {
   "cell_type": "markdown",
   "metadata": {
    "id": "EJKAxHbpT3E7"
   },
   "source": [
    "## Python Code Example\n",
    "\n",
    "For this example, I will generate a data set to use. The data set will have two variables:\n",
    "- state: 0 for off, 1 for on\n",
    "- msec: time in milliseconds\n",
    "\n",
    "Let's imagine with this data set that the msec variable refers to reaction time on a task when an additional notification light is either on to signal a need for a person to react, or if it remains off even when a person needs to react."
   ]
  },
  {
   "cell_type": "code",
   "execution_count": null,
   "metadata": {
    "id": "b0EkBoiWqsWh"
   },
   "outputs": [],
   "source": [
    "# Import\n",
    "import numpy as np\n",
    "import pandas as pd\n",
    "\n",
    "# Correlation coefficient\n",
    "import scipy.stats as stats\n",
    "\n",
    "# Visualizations\n",
    "import matplotlib.pyplot as plt\n",
    "import seaborn as sns"
   ]
  },
  {
   "cell_type": "code",
   "execution_count": null,
   "metadata": {
    "id": "mElxPCVpT8VB"
   },
   "outputs": [],
   "source": [
    "# Set a seed\n",
    "np.random.seed(123)\n",
    "\n",
    "# Randomly generate a dataset\n",
    "df = pd.DataFrame(data={'state': list(np.random.randint(0,2, 100, dtype=int)),\n",
    "                        'msec':list(np.random.normal(0,0.1,100))})"
   ]
  },
  {
   "cell_type": "code",
   "execution_count": null,
   "metadata": {
    "colab": {
     "base_uri": "https://localhost:8080/",
     "height": 175
    },
    "executionInfo": {
     "elapsed": 128,
     "status": "ok",
     "timestamp": 1751149428241,
     "user": {
      "displayName": "Leslie McFarlin",
      "userId": "01236583391427149381"
     },
     "user_tz": 240
    },
    "id": "rhN_ZbetozaM",
    "outputId": "d992f564-f058-4d51-e5cf-c2048d2ba3ca"
   },
   "outputs": [
    {
     "data": {
      "application/vnd.google.colaboratory.intrinsic+json": {
       "summary": "{\n  \"name\": \"df\",\n  \"rows\": 2,\n  \"fields\": [\n    {\n      \"column\": [\n        \"state\",\n        \"\"\n      ],\n      \"properties\": {\n        \"dtype\": \"number\",\n        \"std\": 0,\n        \"min\": 0,\n        \"max\": 1,\n        \"num_unique_values\": 2,\n        \"samples\": [\n          1,\n          0\n        ],\n        \"semantic_type\": \"\",\n        \"description\": \"\"\n      }\n    },\n    {\n      \"column\": [\n        \"msec\",\n        \"count\"\n      ],\n      \"properties\": {\n        \"dtype\": \"number\",\n        \"std\": 7.0710678118654755,\n        \"min\": 45.0,\n        \"max\": 55.0,\n        \"num_unique_values\": 2,\n        \"samples\": [\n          45.0,\n          55.0\n        ],\n        \"semantic_type\": \"\",\n        \"description\": \"\"\n      }\n    },\n    {\n      \"column\": [\n        \"msec\",\n        \"mean\"\n      ],\n      \"properties\": {\n        \"dtype\": \"number\",\n        \"std\": 0.010613402576863823,\n        \"min\": 0.0030634776413754512,\n        \"max\": 0.018073095508501825,\n        \"num_unique_values\": 2,\n        \"samples\": [\n          0.0030634776413754512,\n          0.018073095508501825\n        ],\n        \"semantic_type\": \"\",\n        \"description\": \"\"\n      }\n    },\n    {\n      \"column\": [\n        \"msec\",\n        \"std\"\n      ],\n      \"properties\": {\n        \"dtype\": \"number\",\n        \"std\": 0.0001420110867666367,\n        \"min\": 0.10684612244260243,\n        \"max\": 0.10704695644751515,\n        \"num_unique_values\": 2,\n        \"samples\": [\n          0.10684612244260243,\n          0.10704695644751515\n        ],\n        \"semantic_type\": \"\",\n        \"description\": \"\"\n      }\n    },\n    {\n      \"column\": [\n        \"msec\",\n        \"min\"\n      ],\n      \"properties\": {\n        \"dtype\": \"number\",\n        \"std\": 0.010268068584940008,\n        \"min\": -0.21231003500424417,\n        \"max\": -0.1977887931520449,\n        \"num_unique_values\": 2,\n        \"samples\": [\n          -0.21231003500424417,\n          -0.1977887931520449\n        ],\n        \"semantic_type\": \"\",\n        \"description\": \"\"\n      }\n    },\n    {\n      \"column\": [\n        \"msec\",\n        \"25%\"\n      ],\n      \"properties\": {\n        \"dtype\": \"number\",\n        \"std\": 0.004027545797757796,\n        \"min\": -0.07458270827496,\n        \"max\": -0.06888689838469216,\n        \"num_unique_values\": 2,\n        \"samples\": [\n          -0.06888689838469216,\n          -0.07458270827496\n        ],\n        \"semantic_type\": \"\",\n        \"description\": \"\"\n      }\n    },\n    {\n      \"column\": [\n        \"msec\",\n        \"50%\"\n      ],\n      \"properties\": {\n        \"dtype\": \"number\",\n        \"std\": 0.003593529067403117,\n        \"min\": 0.013021495415796959,\n        \"max\": 0.018103512959700387,\n        \"num_unique_values\": 2,\n        \"samples\": [\n          0.018103512959700387,\n          0.013021495415796959\n        ],\n        \"semantic_type\": \"\",\n        \"description\": \"\"\n      }\n    },\n    {\n      \"column\": [\n        \"msec\",\n        \"75%\"\n      ],\n      \"properties\": {\n        \"dtype\": \"number\",\n        \"std\": 0.013329033208533337,\n        \"min\": 0.08072365345785665,\n        \"max\": 0.09957375299468586,\n        \"num_unique_values\": 2,\n        \"samples\": [\n          0.08072365345785665,\n          0.09957375299468586\n        ],\n        \"semantic_type\": \"\",\n        \"description\": \"\"\n      }\n    },\n    {\n      \"column\": [\n        \"msec\",\n        \"max\"\n      ],\n      \"properties\": {\n        \"dtype\": \"number\",\n        \"std\": 0.025467199463636948,\n        \"min\": 0.2238143338497953,\n        \"max\": 0.2598303927269315,\n        \"num_unique_values\": 2,\n        \"samples\": [\n          0.2238143338497953,\n          0.2598303927269315\n        ],\n        \"semantic_type\": \"\",\n        \"description\": \"\"\n      }\n    }\n  ]\n}",
       "type": "dataframe"
      },
      "text/html": [
       "\n",
       "  <div id=\"df-3ea6e635-2832-4f09-958e-f786c85c64f5\" class=\"colab-df-container\">\n",
       "    <div>\n",
       "<style scoped>\n",
       "    .dataframe tbody tr th:only-of-type {\n",
       "        vertical-align: middle;\n",
       "    }\n",
       "\n",
       "    .dataframe tbody tr th {\n",
       "        vertical-align: top;\n",
       "    }\n",
       "\n",
       "    .dataframe thead tr th {\n",
       "        text-align: left;\n",
       "    }\n",
       "\n",
       "    .dataframe thead tr:last-of-type th {\n",
       "        text-align: right;\n",
       "    }\n",
       "</style>\n",
       "<table border=\"1\" class=\"dataframe\">\n",
       "  <thead>\n",
       "    <tr>\n",
       "      <th></th>\n",
       "      <th colspan=\"8\" halign=\"left\">msec</th>\n",
       "    </tr>\n",
       "    <tr>\n",
       "      <th></th>\n",
       "      <th>count</th>\n",
       "      <th>mean</th>\n",
       "      <th>std</th>\n",
       "      <th>min</th>\n",
       "      <th>25%</th>\n",
       "      <th>50%</th>\n",
       "      <th>75%</th>\n",
       "      <th>max</th>\n",
       "    </tr>\n",
       "    <tr>\n",
       "      <th>state</th>\n",
       "      <th></th>\n",
       "      <th></th>\n",
       "      <th></th>\n",
       "      <th></th>\n",
       "      <th></th>\n",
       "      <th></th>\n",
       "      <th></th>\n",
       "      <th></th>\n",
       "    </tr>\n",
       "  </thead>\n",
       "  <tbody>\n",
       "    <tr>\n",
       "      <th>0</th>\n",
       "      <td>55.0</td>\n",
       "      <td>0.018073</td>\n",
       "      <td>0.107047</td>\n",
       "      <td>-0.197789</td>\n",
       "      <td>-0.074583</td>\n",
       "      <td>0.013021</td>\n",
       "      <td>0.099574</td>\n",
       "      <td>0.259830</td>\n",
       "    </tr>\n",
       "    <tr>\n",
       "      <th>1</th>\n",
       "      <td>45.0</td>\n",
       "      <td>0.003063</td>\n",
       "      <td>0.106846</td>\n",
       "      <td>-0.212310</td>\n",
       "      <td>-0.068887</td>\n",
       "      <td>0.018104</td>\n",
       "      <td>0.080724</td>\n",
       "      <td>0.223814</td>\n",
       "    </tr>\n",
       "  </tbody>\n",
       "</table>\n",
       "</div>\n",
       "    <div class=\"colab-df-buttons\">\n",
       "\n",
       "  <div class=\"colab-df-container\">\n",
       "    <button class=\"colab-df-convert\" onclick=\"convertToInteractive('df-3ea6e635-2832-4f09-958e-f786c85c64f5')\"\n",
       "            title=\"Convert this dataframe to an interactive table.\"\n",
       "            style=\"display:none;\">\n",
       "\n",
       "  <svg xmlns=\"http://www.w3.org/2000/svg\" height=\"24px\" viewBox=\"0 -960 960 960\">\n",
       "    <path d=\"M120-120v-720h720v720H120Zm60-500h600v-160H180v160Zm220 220h160v-160H400v160Zm0 220h160v-160H400v160ZM180-400h160v-160H180v160Zm440 0h160v-160H620v160ZM180-180h160v-160H180v160Zm440 0h160v-160H620v160Z\"/>\n",
       "  </svg>\n",
       "    </button>\n",
       "\n",
       "  <style>\n",
       "    .colab-df-container {\n",
       "      display:flex;\n",
       "      gap: 12px;\n",
       "    }\n",
       "\n",
       "    .colab-df-convert {\n",
       "      background-color: #E8F0FE;\n",
       "      border: none;\n",
       "      border-radius: 50%;\n",
       "      cursor: pointer;\n",
       "      display: none;\n",
       "      fill: #1967D2;\n",
       "      height: 32px;\n",
       "      padding: 0 0 0 0;\n",
       "      width: 32px;\n",
       "    }\n",
       "\n",
       "    .colab-df-convert:hover {\n",
       "      background-color: #E2EBFA;\n",
       "      box-shadow: 0px 1px 2px rgba(60, 64, 67, 0.3), 0px 1px 3px 1px rgba(60, 64, 67, 0.15);\n",
       "      fill: #174EA6;\n",
       "    }\n",
       "\n",
       "    .colab-df-buttons div {\n",
       "      margin-bottom: 4px;\n",
       "    }\n",
       "\n",
       "    [theme=dark] .colab-df-convert {\n",
       "      background-color: #3B4455;\n",
       "      fill: #D2E3FC;\n",
       "    }\n",
       "\n",
       "    [theme=dark] .colab-df-convert:hover {\n",
       "      background-color: #434B5C;\n",
       "      box-shadow: 0px 1px 3px 1px rgba(0, 0, 0, 0.15);\n",
       "      filter: drop-shadow(0px 1px 2px rgba(0, 0, 0, 0.3));\n",
       "      fill: #FFFFFF;\n",
       "    }\n",
       "  </style>\n",
       "\n",
       "    <script>\n",
       "      const buttonEl =\n",
       "        document.querySelector('#df-3ea6e635-2832-4f09-958e-f786c85c64f5 button.colab-df-convert');\n",
       "      buttonEl.style.display =\n",
       "        google.colab.kernel.accessAllowed ? 'block' : 'none';\n",
       "\n",
       "      async function convertToInteractive(key) {\n",
       "        const element = document.querySelector('#df-3ea6e635-2832-4f09-958e-f786c85c64f5');\n",
       "        const dataTable =\n",
       "          await google.colab.kernel.invokeFunction('convertToInteractive',\n",
       "                                                    [key], {});\n",
       "        if (!dataTable) return;\n",
       "\n",
       "        const docLinkHtml = 'Like what you see? Visit the ' +\n",
       "          '<a target=\"_blank\" href=https://colab.research.google.com/notebooks/data_table.ipynb>data table notebook</a>'\n",
       "          + ' to learn more about interactive tables.';\n",
       "        element.innerHTML = '';\n",
       "        dataTable['output_type'] = 'display_data';\n",
       "        await google.colab.output.renderOutput(dataTable, element);\n",
       "        const docLink = document.createElement('div');\n",
       "        docLink.innerHTML = docLinkHtml;\n",
       "        element.appendChild(docLink);\n",
       "      }\n",
       "    </script>\n",
       "  </div>\n",
       "\n",
       "\n",
       "    <div id=\"df-18394798-44d2-416c-86a7-0d2dde4b3375\">\n",
       "      <button class=\"colab-df-quickchart\" onclick=\"quickchart('df-18394798-44d2-416c-86a7-0d2dde4b3375')\"\n",
       "                title=\"Suggest charts\"\n",
       "                style=\"display:none;\">\n",
       "\n",
       "<svg xmlns=\"http://www.w3.org/2000/svg\" height=\"24px\"viewBox=\"0 0 24 24\"\n",
       "     width=\"24px\">\n",
       "    <g>\n",
       "        <path d=\"M19 3H5c-1.1 0-2 .9-2 2v14c0 1.1.9 2 2 2h14c1.1 0 2-.9 2-2V5c0-1.1-.9-2-2-2zM9 17H7v-7h2v7zm4 0h-2V7h2v10zm4 0h-2v-4h2v4z\"/>\n",
       "    </g>\n",
       "</svg>\n",
       "      </button>\n",
       "\n",
       "<style>\n",
       "  .colab-df-quickchart {\n",
       "      --bg-color: #E8F0FE;\n",
       "      --fill-color: #1967D2;\n",
       "      --hover-bg-color: #E2EBFA;\n",
       "      --hover-fill-color: #174EA6;\n",
       "      --disabled-fill-color: #AAA;\n",
       "      --disabled-bg-color: #DDD;\n",
       "  }\n",
       "\n",
       "  [theme=dark] .colab-df-quickchart {\n",
       "      --bg-color: #3B4455;\n",
       "      --fill-color: #D2E3FC;\n",
       "      --hover-bg-color: #434B5C;\n",
       "      --hover-fill-color: #FFFFFF;\n",
       "      --disabled-bg-color: #3B4455;\n",
       "      --disabled-fill-color: #666;\n",
       "  }\n",
       "\n",
       "  .colab-df-quickchart {\n",
       "    background-color: var(--bg-color);\n",
       "    border: none;\n",
       "    border-radius: 50%;\n",
       "    cursor: pointer;\n",
       "    display: none;\n",
       "    fill: var(--fill-color);\n",
       "    height: 32px;\n",
       "    padding: 0;\n",
       "    width: 32px;\n",
       "  }\n",
       "\n",
       "  .colab-df-quickchart:hover {\n",
       "    background-color: var(--hover-bg-color);\n",
       "    box-shadow: 0 1px 2px rgba(60, 64, 67, 0.3), 0 1px 3px 1px rgba(60, 64, 67, 0.15);\n",
       "    fill: var(--button-hover-fill-color);\n",
       "  }\n",
       "\n",
       "  .colab-df-quickchart-complete:disabled,\n",
       "  .colab-df-quickchart-complete:disabled:hover {\n",
       "    background-color: var(--disabled-bg-color);\n",
       "    fill: var(--disabled-fill-color);\n",
       "    box-shadow: none;\n",
       "  }\n",
       "\n",
       "  .colab-df-spinner {\n",
       "    border: 2px solid var(--fill-color);\n",
       "    border-color: transparent;\n",
       "    border-bottom-color: var(--fill-color);\n",
       "    animation:\n",
       "      spin 1s steps(1) infinite;\n",
       "  }\n",
       "\n",
       "  @keyframes spin {\n",
       "    0% {\n",
       "      border-color: transparent;\n",
       "      border-bottom-color: var(--fill-color);\n",
       "      border-left-color: var(--fill-color);\n",
       "    }\n",
       "    20% {\n",
       "      border-color: transparent;\n",
       "      border-left-color: var(--fill-color);\n",
       "      border-top-color: var(--fill-color);\n",
       "    }\n",
       "    30% {\n",
       "      border-color: transparent;\n",
       "      border-left-color: var(--fill-color);\n",
       "      border-top-color: var(--fill-color);\n",
       "      border-right-color: var(--fill-color);\n",
       "    }\n",
       "    40% {\n",
       "      border-color: transparent;\n",
       "      border-right-color: var(--fill-color);\n",
       "      border-top-color: var(--fill-color);\n",
       "    }\n",
       "    60% {\n",
       "      border-color: transparent;\n",
       "      border-right-color: var(--fill-color);\n",
       "    }\n",
       "    80% {\n",
       "      border-color: transparent;\n",
       "      border-right-color: var(--fill-color);\n",
       "      border-bottom-color: var(--fill-color);\n",
       "    }\n",
       "    90% {\n",
       "      border-color: transparent;\n",
       "      border-bottom-color: var(--fill-color);\n",
       "    }\n",
       "  }\n",
       "</style>\n",
       "\n",
       "      <script>\n",
       "        async function quickchart(key) {\n",
       "          const quickchartButtonEl =\n",
       "            document.querySelector('#' + key + ' button');\n",
       "          quickchartButtonEl.disabled = true;  // To prevent multiple clicks.\n",
       "          quickchartButtonEl.classList.add('colab-df-spinner');\n",
       "          try {\n",
       "            const charts = await google.colab.kernel.invokeFunction(\n",
       "                'suggestCharts', [key], {});\n",
       "          } catch (error) {\n",
       "            console.error('Error during call to suggestCharts:', error);\n",
       "          }\n",
       "          quickchartButtonEl.classList.remove('colab-df-spinner');\n",
       "          quickchartButtonEl.classList.add('colab-df-quickchart-complete');\n",
       "        }\n",
       "        (() => {\n",
       "          let quickchartButtonEl =\n",
       "            document.querySelector('#df-18394798-44d2-416c-86a7-0d2dde4b3375 button');\n",
       "          quickchartButtonEl.style.display =\n",
       "            google.colab.kernel.accessAllowed ? 'block' : 'none';\n",
       "        })();\n",
       "      </script>\n",
       "    </div>\n",
       "\n",
       "    </div>\n",
       "  </div>\n"
      ],
      "text/plain": [
       "       msec                                                              \\\n",
       "      count      mean       std       min       25%       50%       75%   \n",
       "state                                                                     \n",
       "0      55.0  0.018073  0.107047 -0.197789 -0.074583  0.013021  0.099574   \n",
       "1      45.0  0.003063  0.106846 -0.212310 -0.068887  0.018104  0.080724   \n",
       "\n",
       "                 \n",
       "            max  \n",
       "state            \n",
       "0      0.259830  \n",
       "1      0.223814  "
      ]
     },
     "execution_count": 21,
     "metadata": {},
     "output_type": "execute_result"
    }
   ],
   "source": [
    "# Explore each category\n",
    "df.groupby('state').describe()"
   ]
  },
  {
   "cell_type": "code",
   "execution_count": null,
   "metadata": {
    "colab": {
     "base_uri": "https://localhost:8080/"
    },
    "executionInfo": {
     "elapsed": 10,
     "status": "ok",
     "timestamp": 1751146929214,
     "user": {
      "displayName": "Leslie McFarlin",
      "userId": "01236583391427149381"
     },
     "user_tz": 240
    },
    "id": "P0aQYJMwUGGB",
    "outputId": "b1da9786-08ad-4a41-f80e-bb5567f1a838"
   },
   "outputs": [
    {
     "name": "stdout",
     "output_type": "stream",
     "text": [
      "ShapiroResult(statistic=np.float64(0.9724618426989159), pvalue=np.float64(0.23691688392959231))\n",
      "ShapiroResult(statistic=np.float64(0.9699718490795727), pvalue=np.float64(0.28890857959306887))\n"
     ]
    }
   ],
   "source": [
    "# Test normality for each state - Shapiro-Wilk Test\n",
    "print(stats.shapiro(df[df['state'] == 0]['msec']))\n",
    "print(stats.shapiro(df[df['state'] == 1]['msec']))"
   ]
  },
  {
   "cell_type": "markdown",
   "metadata": {
    "id": "mxtb4D_bfi1R"
   },
   "source": [
    "The p-values are greater than 0.05/2 (0.025), so we cannot reject the null hypothesis that the values for each group were from a normal distribution.\n",
    "\n",
    "Now, to check equality of variance."
   ]
  },
  {
   "cell_type": "code",
   "execution_count": null,
   "metadata": {
    "colab": {
     "base_uri": "https://localhost:8080/"
    },
    "executionInfo": {
     "elapsed": 7,
     "status": "ok",
     "timestamp": 1751147066499,
     "user": {
      "displayName": "Leslie McFarlin",
      "userId": "01236583391427149381"
     },
     "user_tz": 240
    },
    "id": "haNwWSDPUJD4",
    "outputId": "07221600-166f-41b7-8779-844844876d3a"
   },
   "outputs": [
    {
     "name": "stdout",
     "output_type": "stream",
     "text": [
      "LeveneResult(statistic=np.float64(0.062338174744849005), pvalue=np.float64(0.8033604123049517))\n"
     ]
    }
   ],
   "source": [
    "# Test of homoskedasticity\n",
    "print(stats.levene(df[df['state'] == 0]['msec'], df[df['state'] == 1]['msec']))"
   ]
  },
  {
   "cell_type": "markdown",
   "metadata": {
    "id": "vd9VHXTogUlL"
   },
   "source": [
    "The large p-value suggests that each group has homogeneous variance. We may proceed with the point biserial correlation."
   ]
  },
  {
   "cell_type": "code",
   "execution_count": null,
   "metadata": {
    "colab": {
     "base_uri": "https://localhost:8080/"
    },
    "executionInfo": {
     "elapsed": 21,
     "status": "ok",
     "timestamp": 1751147389520,
     "user": {
      "displayName": "Leslie McFarlin",
      "userId": "01236583391427149381"
     },
     "user_tz": 240
    },
    "id": "5X9fJxYKf7QF",
    "outputId": "a44ff884-6388-42ef-8369-26adff4a11a7"
   },
   "outputs": [
    {
     "name": "stdout",
     "output_type": "stream",
     "text": [
      "SignificanceResult(statistic=np.float64(-0.07034906630698473), pvalue=np.float64(0.48673672603530155))\n"
     ]
    }
   ],
   "source": [
    "# Isolate the variables\n",
    "x = df.state\n",
    "y = df.msec\n",
    "\n",
    "# print\n",
    "print(stats.pointbiserialr(x,y))"
   ]
  },
  {
   "cell_type": "markdown",
   "metadata": {
    "id": "sKTAvT41hrkF"
   },
   "source": [
    "Looking at the results above, notice the p-value of 0.4864. This is far higher than a traditional alpha of 0.05, so we cannot reject the null hypothesis. Therefore, there is no relationship between state and milliseconds."
   ]
  },
  {
   "cell_type": "code",
   "execution_count": null,
   "metadata": {
    "id": "tmn5lqTxhKGu"
   },
   "outputs": [],
   "source": []
  }
 ],
 "metadata": {
  "colab": {
   "authorship_tag": "ABX9TyOexoXoFz67NveiI8Lw8JmW",
   "provenance": []
  },
  "kernelspec": {
   "display_name": "Python 3",
   "name": "python3"
  },
  "language_info": {
   "name": "python"
  }
 },
 "nbformat": 4,
 "nbformat_minor": 0
}