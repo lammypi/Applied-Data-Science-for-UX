{
 "cells": [
  {
   "cell_type": "markdown",
   "metadata": {
    "id": "NGW_jckEpBLJ"
   },
   "source": [
    "# Polychoric Correlation"
   ]
  },
  {
   "cell_type": "markdown",
   "metadata": {
    "id": "AoPpmNnTp6k2"
   },
   "source": [
    "Polychoric correlation quantifies the relationship between two ordinal variables where there are 7 or less categories and the latent variable underlying the ordinal measurement is assumed to be continuous. Most often, polychoric correlations are used for Likert scale or Likert-type items.\n",
    "\n",
    "Imagine that you have two Likert scale items that you wish to learn the correlation between:\n",
    "- This product is easy to use.\n",
    "- This product is useful.\n",
    "\n",
    "Both would be measured on the traditional scale of 1 to 5 assessing level of agreement with each of the above statements.\n",
    "\n",
    "__Interpretation__\n",
    "\n",
    "Polychoric correlations are within the range of [-1, 1], and a value of 0 indicates no correlation. The table of interpretation values appears below:\n",
    "\n",
    "|Correlation Coefficient | Interpretation |\n",
    "|---------------------------|----------------|\n",
    "| 0.00 – 0.10 | Negligible or trivial |\n",
    "| 0.10 – 0.30 | Weak |\n",
    "| 0.30 – 0.50 | Moderate |\n",
    "| 0.50 – 1.00 | Strong |\n",
    "\n",
    "__Assumptions__\n",
    "1. Both variables are ordinal with 7 or fewer categories.\n",
    "2. The latent variables underlying each ordinal measure are assumed to continuous.\n",
    "3. The joint distribution of the latent variables is bivariate normal.\n",
    "\n",
    "Given the assumptions above, I will now point out that unlike some of the other correlations such as Pearson's $r$, or Point Biserial correlation $r_{pb}$, the polychoric correlation does not have a closed-form solution. It is estimated numerically via maximum likelihood estimation (MLE). In other words, going from the discretized observed variables to the underlying continuous variables requires maximizing the log likelihood of a bivariate normal cumulative distribution over all of the observed cell frequencies in a contingency table between the two variables of interest."
   ]
  },
  {
   "cell_type": "markdown",
   "metadata": {
    "id": "ma9Sy5kDuvhM"
   },
   "source": [
    "## Python Example"
   ]
  },
  {
   "cell_type": "markdown",
   "metadata": {
    "id": "Sy3ExZZGuxSS"
   },
   "source": [
    "Polychoric correlations are another correlation that does not have a well-maintained Python package. Therefore, this tutorial will bridge between Python and R using [rpy2](https://rpy2.github.io/doc/v3.6.x/html/index.html)."
   ]
  },
  {
   "cell_type": "code",
   "execution_count": null,
   "metadata": {
    "id": "5xxp8szqv5Y7"
   },
   "outputs": [],
   "source": [
    "# Install rpy2 if you need it\n",
    "# !pip install rpy2"
   ]
  },
  {
   "cell_type": "markdown",
   "metadata": {
    "id": "jno-ng2-v95L"
   },
   "source": [
    "If you're using conda for install, this is the line you need to use:\n",
    "```\n",
    "conda install conda-forge::rpy2\n",
    "```"
   ]
  },
  {
   "cell_type": "code",
   "execution_count": null,
   "metadata": {
    "id": "TYfLb4SSo-Yb"
   },
   "outputs": [],
   "source": [
    "# Import\n",
    "import numpy as np\n",
    "import pandas as pd\n",
    "\n",
    "# Visualizations\n",
    "import matplotlib.pyplot as plt\n",
    "import seaborn as sns\n",
    "\n",
    "# Necessary imports\n",
    "import rpy2\n",
    "import rpy2.robjects as ro\n",
    "from rpy2.robjects.vectors import IntVector\n",
    "from rpy2.robjects.packages import importr, isinstalled\n",
    "from rpy2.robjects import pandas2ri"
   ]
  },
  {
   "cell_type": "code",
   "execution_count": null,
   "metadata": {
    "colab": {
     "base_uri": "https://localhost:8080/"
    },
    "executionInfo": {
     "elapsed": 18395,
     "status": "ok",
     "timestamp": 1752426948705,
     "user": {
      "displayName": "Leslie McFarlin",
      "userId": "01236583391427149381"
     },
     "user_tz": 240
    },
    "id": "hoRY4HDGyMiQ",
    "outputId": "170eddb5-5055-4ebc-e330-00f51a367baa"
   },
   "outputs": [
    {
     "name": "stderr",
     "output_type": "stream",
     "text": [
      "WARNING:rpy2.rinterface_lib.callbacks:R[write to console]: Installing package into ‘/usr/local/lib/R/site-library’\n",
      "(as ‘lib’ is unspecified)\n",
      "\n",
      "WARNING:rpy2.rinterface_lib.callbacks:R[write to console]: also installing the dependencies ‘mvtnorm’, ‘admisc’\n",
      "\n",
      "\n",
      "WARNING:rpy2.rinterface_lib.callbacks:R[write to console]: trying URL 'https://cran.rstudio.com/src/contrib/mvtnorm_1.3-3.tar.gz'\n",
      "\n",
      "WARNING:rpy2.rinterface_lib.callbacks:R[write to console]: trying URL 'https://cran.rstudio.com/src/contrib/admisc_0.38.tar.gz'\n",
      "\n",
      "WARNING:rpy2.rinterface_lib.callbacks:R[write to console]: trying URL 'https://cran.rstudio.com/src/contrib/polycor_0.8-1.tar.gz'\n",
      "\n",
      "WARNING:rpy2.rinterface_lib.callbacks:R[write to console]: \n",
      "\n",
      "WARNING:rpy2.rinterface_lib.callbacks:R[write to console]: \n",
      "WARNING:rpy2.rinterface_lib.callbacks:R[write to console]: The downloaded source packages are in\n",
      "\t‘/tmp/RtmpLPaHdG/downloaded_packages’\n",
      "WARNING:rpy2.rinterface_lib.callbacks:R[write to console]: \n",
      "WARNING:rpy2.rinterface_lib.callbacks:R[write to console]: \n",
      "\n"
     ]
    }
   ],
   "source": [
    "# Import the needed R libraries\n",
    "utils = importr('utils')\n",
    "\n",
    "# Don't go through the install process if don't need to\n",
    "if not isinstalled('polycor'):\n",
    "  utils.install_packages('polycor')\n",
    "\n",
    "# Set the import\n",
    "polycor = importr('polycor')"
   ]
  },
  {
   "cell_type": "markdown",
   "metadata": {
    "id": "eRqDCjkNx-04"
   },
   "source": [
    "To start, let's create a data set of two variables with 100 data points."
   ]
  },
  {
   "cell_type": "code",
   "execution_count": null,
   "metadata": {
    "id": "qOOv4dO9xgS-"
   },
   "outputs": [],
   "source": [
    "# Seed\n",
    "np.random.seed(10)\n",
    "\n",
    "# Create the dataframe\n",
    "df = pd.DataFrame(data={'easy_to_use': list(np.random.randint(1, 6, 100)),\n",
    "                        'usefulness': list(np.random.randint(1, 6, 100))})"
   ]
  },
  {
   "cell_type": "code",
   "execution_count": null,
   "metadata": {
    "id": "JHstKlJhygJF"
   },
   "outputs": [],
   "source": [
    "# Set as an R dataframe using context and a converter object\n",
    "with (ro.default_converter + pandas2ri.converter).context():\n",
    "  r_df = ro.conversion.get_conversion().py2rpy(df)"
   ]
  },
  {
   "cell_type": "code",
   "execution_count": null,
   "metadata": {
    "colab": {
     "base_uri": "https://localhost:8080/"
    },
    "executionInfo": {
     "elapsed": 69,
     "status": "ok",
     "timestamp": 1752427249359,
     "user": {
      "displayName": "Leslie McFarlin",
      "userId": "01236583391427149381"
     },
     "user_tz": 240
    },
    "id": "metcaf-iy12v",
    "outputId": "ad08dc49-4cf3-449e-dacc-19d53a18dd5e"
   },
   "outputs": [
    {
     "name": "stdout",
     "output_type": "stream",
     "text": [
      "Polychoric correlation: -0.15387111896077552\n"
     ]
    }
   ],
   "source": [
    "# Check the correlation\n",
    "r_corr = polycor.polychor(r_df.rx2('easy_to_use'), r_df.rx2('usefulness'))\n",
    "\n",
    "# Show\n",
    "print(f'Polychoric correlation: {r_corr[0]}')"
   ]
  },
  {
   "cell_type": "code",
   "execution_count": null,
   "metadata": {
    "colab": {
     "base_uri": "https://localhost:8080/"
    },
    "executionInfo": {
     "elapsed": 137,
     "status": "ok",
     "timestamp": 1752427398036,
     "user": {
      "displayName": "Leslie McFarlin",
      "userId": "01236583391427149381"
     },
     "user_tz": 240
    },
    "id": "ILDZc7qdzM1_",
    "outputId": "6310eed0-667e-4826-9cfb-78bedd56576d"
   },
   "outputs": [
    {
     "name": "stdout",
     "output_type": "stream",
     "text": [
      "\n",
      "Two-Step Estimates\n",
      "\n",
      "Correlations/Type of Correlation:\n",
      "            easy_to_use usefulness\n",
      "easy_to_use           1 Polychoric\n",
      "usefulness      -0.1538          1\n",
      "\n",
      "Standard Errors:\n",
      "[1] \"\"       \"0.1102\"\n",
      "\n",
      "n = 100 \n",
      "\n",
      "P-values for Tests of Bivariate Normality:\n",
      "[1] \"\"       \"0.3857\"\n",
      "\n"
     ]
    }
   ],
   "source": [
    "# Coerce numbers to ordered factor (levels 1-5 assumed)\n",
    "r_df[r_df.names.index(\"easy_to_use\")] = ro.r[\"ordered\"](r_df.rx2(\"easy_to_use\"), levels=IntVector([1, 2, 3, 4, 5]))\n",
    "r_df[r_df.names.index(\"usefulness\")] = ro.r[\"ordered\"](r_df.rx2(\"usefulness\"), levels=IntVector([1, 2, 3, 4, 5]))\n",
    "\n",
    "# Check significance\n",
    "r_hetcor = polycor.hetcor(r_df, use=\"complete.obs\")\n",
    "\n",
    "# Print\n",
    "print(r_hetcor)"
   ]
  },
  {
   "cell_type": "markdown",
   "metadata": {
    "id": "j0zn0G360CGF"
   },
   "source": [
    "We can see that our two variables in this example have a weak inverse relationship that is not statistically significant:\n",
    "- $r$ = -0.1538\n",
    "- p = 0.3587, which is greater than 0.05, meaning we cannot reject the null hypothesis."
   ]
  }
 ],
 "metadata": {
  "colab": {
   "authorship_tag": "ABX9TyPYoBDzXI2OB1iOBqSHUupQ",
   "provenance": []
  },
  "kernelspec": {
   "display_name": "Python 3",
   "name": "python3"
  },
  "language_info": {
   "name": "python"
  }
 },
 "nbformat": 4,
 "nbformat_minor": 0
}