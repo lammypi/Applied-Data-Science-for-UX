{
 "cells": [
  {
   "cell_type": "markdown",
   "metadata": {
    "id": "ZzO7mnS1a-x1"
   },
   "source": [
    "# Language of Data\n",
    "\n",
    "Language is fundamental to every aspect of data science and analytics. Therefore, it's worth reviewing some basic vocabulary that can be broken out into two groups:\n",
    "1. Language of Data Features- refers to aspects of data itself.\n",
    "2. Language of Methods- ways of deriving information from data.\n",
    "\n",
    "Don't look at these items and worry, though. I guarantee that as a UX professional you're well acquainted with the terms I'll be mentioning. It might be, however, that you never put them all together to see how they all relate."
   ]
  },
  {
   "cell_type": "markdown",
   "metadata": {
    "id": "ZdglIbsmrTiA"
   },
   "source": [
    "## Language of Data Features\n",
    "\n",
    "Often when talking about variables, analysts and data scientists mention 'features.' In that scenario they're referring to variables, because variables represent the features we are interested in learning more about. However, in this brief lesson I'll use 'feature' to refer to aspects of data, of which there are three I consider very important:\n",
    "1. Structure\n",
    "2. Content\n",
    "3. Level"
   ]
  },
  {
   "cell_type": "markdown",
   "metadata": {
    "id": "eXHVwBZEsGaA"
   },
   "source": [
    "### Structure\n",
    "\n",
    "Structure is a simple concept: Your data either has it, or it doesn't.\n",
    "\n",
    "Structured data is data that is organized according to some predefined model. So, think of tables and files as two examples. Structured data is well defined within its storage space. It's also easily searched.\n",
    "\n",
    "Unstructure data, by comparison, lacks a predefined model. It may have its own internal structure. It may also be stored in a native format and require additional processing before being usable in analytics projects."
   ]
  },
  {
   "cell_type": "markdown",
   "metadata": {
    "id": "zNrHFQTrt2_J"
   },
   "source": [
    "### Content\n",
    "\n",
    "Content refers, in a very broad sense, to what the data contains: Is your data composed of numbers? Or is your data composed of non-numeric content like text or speech?\n",
    "\n",
    "Data composed of numbers is said to be _quantitative_. Data not composed of numbers is _qualitative_."
   ]
  },
  {
   "cell_type": "markdown",
   "metadata": {
    "id": "C0zWG_d_u9L7"
   },
   "source": [
    "### Level\n",
    "\n",
    "Level relates to content in that it provides a more detailed description of data content. To dig into that, there are 4 levels of data:\n",
    "- __Nominal__, categorical data without hierarchy\n",
    "- __Ordinal__, categorical data with hierarchy\n",
    "- __Interval__, continuous data (numeric) with equal intervals and no zero point\n",
    "- __Ratio__, continuous data (numeric) with equal intervals and a zero point\n",
    "\n",
    "Let me provide examples of each.\n",
    "\n",
    "| Level | Example |\n",
    "|-------|---------|\n",
    "| Nominal | Type of animal: Cat, Dog, Elephant, Ferret |\n",
    "| Ordinal | Frequency of use: Never, Rarely, Montly, Weekly, Daily |\n",
    "| Interval | Hours on a clock (1 thru 12) |\n",
    "| Ratio | Income: $0, each dollar increase is an increase by the same magnitude.|"
   ]
  },
  {
   "cell_type": "markdown",
   "metadata": {
    "id": "PDrCtOEBxY7l"
   },
   "source": [
    "## Language of Methods\n",
    "\n",
    "When referring to methods, I'm talking about what we do with data to extract insights. We can start by looking at methods from a very general level of unsupervised vs. supervised methods. _Unsupervised methods_ are methods that derive insights solely from the patterns within the data they are applied to. _Supervised methods_ rely on the data to provide a target feature to train its parameters on for the goal of predicting something (a value or a group membership). I provide some examples below.\n",
    "\n",
    "__Unsupervised Methods__\n",
    "- KMeans clustering- given a set of quantitative data, the clustering algorithm uses euclidean distance to group data points based on their closeness.\n",
    "- Principal Component Analysis- given a quantitative data set, identifies the combination of variables along dimensions that explain the most observed variance in the data set.\n",
    "- Semantic clustering- given text data (qualitative data), uses similarity of meaning to group content together.\n",
    "\n",
    "__Supervised Methods__\n",
    "- Logistic regression- given a set of quantitative predictors, provides the likelihood that unseen data points will fall into a specific category.\n",
    "- Polynomial regression- given a set of quantitative predictors, creates a model that can predict a target variable in a non-linear relationship.\n",
    "\n",
    "We can also look at methods as they apply to goals of analytics. In this case, the high level split of unsupervised and supervised methods no longer holds, because each category can offer something to the more fine-grained analytics goals.\n",
    "1. Descriptive analytics, methods that answer the question of, \"What happened?\" These are the backbone of analytics as a whole.\n",
    "- Measures of central tendency\n",
    "- Topic modeling\n",
    "\n",
    "2. Diagnostic analytics, methods that answer the question of, \"What is this?\" These methods tell you what something is or could be.\n",
    "- Hypothesis testing\n",
    "- Correlation\n",
    "\n",
    "3. Predictive analytics, methods that answer the question of \"What will happen?\" As the name suggests, these methods predict some future event based on large amounts of previous data.\n",
    "- Linear regression\n",
    "- Time series analysis\n",
    "\n",
    "4. Prescriptive analytics, methods that help you create solutions or recommendations. They answer the question, \"How can I address this?\"\n",
    "- Combines descriptive, diagnostic, and/or predictive analytics\n",
    "- Optimization or simulation\n",
    "\n"
   ]
  },
  {
   "cell_type": "code",
   "execution_count": null,
   "metadata": {
    "id": "YqdnByMesFLH"
   },
   "outputs": [],
   "source": []
  }
 ],
 "metadata": {
  "colab": {
   "authorship_tag": "ABX9TyMzjBjx3L4xOdQ6oSKpJlR5",
   "provenance": []
  },
  "kernelspec": {
   "display_name": "Python 3",
   "name": "python3"
  },
  "language_info": {
   "name": "python"
  }
 },
 "nbformat": 4,
 "nbformat_minor": 0
}