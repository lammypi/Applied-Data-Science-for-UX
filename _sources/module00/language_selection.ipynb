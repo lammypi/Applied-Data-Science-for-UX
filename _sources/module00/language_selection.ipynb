{
  "cells": [
    {
      "cell_type": "markdown",
      "metadata": {
        "id": "giYLnYklr-io"
      },
      "source": [
        "# Setting up Your Workspace\n",
        "\n",
        "If you're new to using Python or R on your machine, this section can help you identify the necessary downloads to get started.\n",
        "\n",
        "- __31-May-2025__: The early iteration of this section will focus on getting started using Jupyter notebooks. Troubleshooting help will not be provided until future updates."
      ]
    },
    {
      "cell_type": "markdown",
      "metadata": {
        "id": "G2cw4-0FsFnP"
      },
      "source": [
        "## Language Selection\n",
        "\n",
        "Data science can be done in a variety of languages, but the examples in this repository focus primarily on Python and R. If you're completely new to data science I recommend starting with one of these languages as they're relatively simple to learn and have many easy-to-use, well documented libraries. Also, it may turn out that if you're coming to this from a UX research background that you have experience in one or both of these languages already. In that case, this section might not be very useful for you."
      ]
    },
    {
      "cell_type": "markdown",
      "metadata": {
        "id": "cL3oAqAMsZVR"
      },
      "source": [
        "### Python vs. R\n",
        "\n",
        "The selection of language for your data science journey is important as it may impact your perceptions of what is and is not possible. That's not to say that you can only do certain types of work in one language versus another--there is a lot of overlap in libraries between both languages, and you can even use Python in R via [reticulate](https://rstudio.github.io/reticulate/), or R in Python via [r2py](https://rpy2.github.io/). Rather, it's easier to do some things in Python than R and vice versa.\n",
        "\n",
        "Here is a very high-level comparison of the two languages to aid your decision:\n",
        "\n",
        "| Consideration | Python | R |\n",
        "|---------------|--------|---|\n",
        "| Open-source   | ✅     | ✅ |\n",
        "| Community support | Strong | Strong |\n",
        "| Opportunities for Use | Data science | Data science |\n",
        "|            | Data visualization / dashboarding | Data visualization / dashboarding|\n",
        "|            | ML/AI | Statistics|\n",
        "|            | Software development | Diverse report documentation|\n",
        "|            | Task automation | |\n",
        "|            | Web development |  |\n",
        "|            | Game development | |\n",
        "| Domains    | Virtually all domains within tech-backed industries | Academia, Healthcare, Finance |\n",
        "\n",
        "Obviously this is not an exhaustive list, but hopefully it is enough to help you choose between the two languages. From my own experience, it was easier for me to learn Python than R overall. To summarize my experience with both:\n",
        "- R starts out easy, but as you progress to more advanced types of analyses, the syntax sometimes became more difficult.\n",
        "- Visualization in R is much easier than in Python. This is due in part to the 'language' of creating visualizations and tables that you find in packages like [ggplot2](https://ggplot2.tidyverse.org/) and [gt](https://gt.rstudio.com/).\n",
        "- Dashboarding in R via [Shiny](https://shiny.posit.co/) can seem slow, but it is far more flexible in many ways than the popular [Streamlit](https://streamlit.io/) for Python.\n",
        "  - Shiny for Python is kind of meh for me, as of writing this in May 2025.\n",
        "- Python is easier to do more with. I can scrape text data, set up a website via Django, and do nearly all of my most important data analysis tasks.\n",
        "  - I say almost because to do polychoric correlations, the best way in Python is to use rpy2 to access polycor.\n",
        "- Python frameworks and ecosystems for machine learning seem better supported ([scikit-learn](https://scikit-learn.org/stable/), [TensorFlow](https://www.tensorflow.org/), [PyTorch](https://pytorch.org/)).\n",
        "\n",
        "I use both Python and R, but I use Python as much as possible because it allows me to do more than just analytics work."
      ]
    }
  ],
  "metadata": {
    "colab": {
      "provenance": []
    },
    "kernelspec": {
      "display_name": "Python 3",
      "name": "python3"
    },
    "language_info": {
      "name": "python"
    }
  },
  "nbformat": 4,
  "nbformat_minor": 0
}
