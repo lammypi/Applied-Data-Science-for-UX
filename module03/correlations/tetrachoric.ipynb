{
  "nbformat": 4,
  "nbformat_minor": 0,
  "metadata": {
    "colab": {
      "provenance": []
    },
    "kernelspec": {
      "name": "python3",
      "display_name": "Python 3"
    },
    "language_info": {
      "name": "python"
    }
  },
  "cells": [
    {
      "cell_type": "markdown",
      "source": [
        "# Tetrachoric Correlations"
      ],
      "metadata": {
        "id": "u-UXnxtQ259e"
      }
    },
    {
      "cell_type": "markdown",
      "source": [
        "The tetrachoric correlation is a special case of the polychoric correlation. As a reminder, the polychoric correlation measures the strength of a relationship between two ordinal variables that:\n",
        "- Have 7 or fewer categories\n",
        "- Assume the underlying latent variables for each ordinal measure are continuous in nature.\n",
        "\n",
        "The tetrachoric correlation, by comparison, measures the relationship between two binary variables.\n",
        "\n",
        "Like, polychoric correlation though, it has no closed-form equation. It relies on maximum likelihood estimation (MLE) on a 2x2 table.\n",
        "\n",
        "__Interpretation__\n",
        "\n",
        "Tetrachoric correlations are interpreted similarly to polychoric correlations.\n",
        "- Within the range of [-1, 1]\n",
        "- A value of 0 indicates no correlation.\n",
        "\n",
        "The table of interpretation values appears below:\n",
        "\n",
        "|Correlation Coefficient | Interpretation |\n",
        "|---------------------------|----------------|\n",
        "| 0.00 – 0.10 | Negligible or trivial |\n",
        "| 0.10 – 0.30 | Weak |\n",
        "| 0.30 – 0.50 | Moderate |\n",
        "| 0.50 – 1.00 | Strong |\n",
        "\n",
        "__Assumptions__\n",
        "1. Both variables are binomial (2 categories)\n",
        "2. Underlying latent variables are assumed to be normally distributed.\n",
        "3. The variables have a joint bivariate distribution."
      ],
      "metadata": {
        "id": "ppDR_Jif3DzW"
      }
    },
    {
      "cell_type": "markdown",
      "source": [
        "## Python Example"
      ],
      "metadata": {
        "id": "BBLj5ELc6Ztw"
      }
    },
    {
      "cell_type": "markdown",
      "source": [
        "Like polychoric correlations, tetrachoric correlations in python are calculated using R's ```polycor``` library after bridging between Python and R via [rpy2](https://rpy2.github.io/doc/v3.6.x/html/index.html)."
      ],
      "metadata": {
        "id": "QSAP-ZOM6beR"
      }
    },
    {
      "cell_type": "code",
      "execution_count": 1,
      "metadata": {
        "id": "CFDRknZn22oL"
      },
      "outputs": [],
      "source": [
        "# Install rpy2 if you need it\n",
        "# !pip install rpy2"
      ]
    },
    {
      "cell_type": "markdown",
      "source": [
        "If you're using conda for install, this is the line you need to use:\n",
        "```\n",
        "conda install conda-forge::rpy2\n",
        "```"
      ],
      "metadata": {
        "id": "bmnWWpSH60p4"
      }
    },
    {
      "cell_type": "code",
      "source": [
        "# Import\n",
        "import numpy as np\n",
        "import pandas as pd\n",
        "\n",
        "# Correlation coefficient\n",
        "import scipy.stats as stats\n",
        "\n",
        "# Visualizations\n",
        "import matplotlib.pyplot as plt\n",
        "import seaborn as sns\n",
        "\n",
        "# Necessary imports\n",
        "import rpy2\n",
        "import rpy2.robjects as ro\n",
        "from rpy2.robjects.vectors import IntVector\n",
        "from rpy2.robjects.packages import importr, isinstalled\n",
        "from rpy2.robjects import pandas2ri"
      ],
      "metadata": {
        "id": "GW-iLbPj6zup"
      },
      "execution_count": 2,
      "outputs": []
    },
    {
      "cell_type": "code",
      "source": [
        "# Import the needed R libraries\n",
        "utils = importr('utils')\n",
        "\n",
        "# Don't go through the install process if don't need to\n",
        "if not isinstalled('polycor'):\n",
        "  utils.install_packages('polycor')\n",
        "\n",
        "# Set the import\n",
        "polycor = importr('polycor')"
      ],
      "metadata": {
        "colab": {
          "base_uri": "https://localhost:8080/"
        },
        "id": "ShuG1KkU6-vg",
        "outputId": "7a3188dc-9acf-49ad-b059-e87e97d0e348"
      },
      "execution_count": 3,
      "outputs": [
        {
          "output_type": "stream",
          "name": "stderr",
          "text": [
            "WARNING:rpy2.rinterface_lib.callbacks:R[write to console]: Installing package into ‘/usr/local/lib/R/site-library’\n",
            "(as ‘lib’ is unspecified)\n",
            "\n",
            "WARNING:rpy2.rinterface_lib.callbacks:R[write to console]: also installing the dependencies ‘mvtnorm’, ‘admisc’\n",
            "\n",
            "\n",
            "WARNING:rpy2.rinterface_lib.callbacks:R[write to console]: trying URL 'https://cran.rstudio.com/src/contrib/mvtnorm_1.3-3.tar.gz'\n",
            "\n",
            "WARNING:rpy2.rinterface_lib.callbacks:R[write to console]: trying URL 'https://cran.rstudio.com/src/contrib/admisc_0.38.tar.gz'\n",
            "\n",
            "WARNING:rpy2.rinterface_lib.callbacks:R[write to console]: trying URL 'https://cran.rstudio.com/src/contrib/polycor_0.8-1.tar.gz'\n",
            "\n",
            "WARNING:rpy2.rinterface_lib.callbacks:R[write to console]: \n",
            "\n",
            "WARNING:rpy2.rinterface_lib.callbacks:R[write to console]: \n",
            "WARNING:rpy2.rinterface_lib.callbacks:R[write to console]: The downloaded source packages are in\n",
            "\t‘/tmp/RtmpJL9pnK/downloaded_packages’\n",
            "WARNING:rpy2.rinterface_lib.callbacks:R[write to console]: \n",
            "WARNING:rpy2.rinterface_lib.callbacks:R[write to console]: \n",
            "\n"
          ]
        }
      ]
    },
    {
      "cell_type": "markdown",
      "source": [
        "So, imagine that you're evaluating a dashboard with 100 users. You have two binary variables:\n",
        "- Utilization: 0 = low use, 1 = high use\n",
        "- Frustration: 0 = low frustration, 1 = high frustration\n",
        "\n",
        "Utilization reflects a latent, normally distributed motivation to use. Frustration reflects a latent, normally distributed negative emotional state."
      ],
      "metadata": {
        "id": "5jRY-O7d7mDm"
      }
    },
    {
      "cell_type": "code",
      "source": [
        "# Set a seed\n",
        "np.random.seed(123)\n",
        "\n",
        "# Randomly generate a dataset\n",
        "df = pd.DataFrame(data={'utilization': list(np.random.randint(0, 2, 100, dtype=int)),\n",
        "                        'frustration':list(np.random.randint(0, 2, 100, dtype=int))})"
      ],
      "metadata": {
        "id": "_PTv0YUY7GDL"
      },
      "execution_count": 4,
      "outputs": []
    },
    {
      "cell_type": "code",
      "source": [
        "# Check distribution\n",
        "pd.crosstab(df.utilization, df.frustration, margins=True)"
      ],
      "metadata": {
        "colab": {
          "base_uri": "https://localhost:8080/",
          "height": 175
        },
        "id": "Gx8SnDZ0-B9T",
        "outputId": "027cc1b1-08e3-4cc7-ccf1-0193d195bfec"
      },
      "execution_count": 11,
      "outputs": [
        {
          "output_type": "execute_result",
          "data": {
            "text/plain": [
              "frustration   0   1  All\n",
              "utilization             \n",
              "0            24  31   55\n",
              "1            23  22   45\n",
              "All          47  53  100"
            ],
            "text/html": [
              "\n",
              "  <div id=\"df-07804e1e-ea65-4174-90fe-ecdd367d3bbd\" class=\"colab-df-container\">\n",
              "    <div>\n",
              "<style scoped>\n",
              "    .dataframe tbody tr th:only-of-type {\n",
              "        vertical-align: middle;\n",
              "    }\n",
              "\n",
              "    .dataframe tbody tr th {\n",
              "        vertical-align: top;\n",
              "    }\n",
              "\n",
              "    .dataframe thead th {\n",
              "        text-align: right;\n",
              "    }\n",
              "</style>\n",
              "<table border=\"1\" class=\"dataframe\">\n",
              "  <thead>\n",
              "    <tr style=\"text-align: right;\">\n",
              "      <th>frustration</th>\n",
              "      <th>0</th>\n",
              "      <th>1</th>\n",
              "      <th>All</th>\n",
              "    </tr>\n",
              "    <tr>\n",
              "      <th>utilization</th>\n",
              "      <th></th>\n",
              "      <th></th>\n",
              "      <th></th>\n",
              "    </tr>\n",
              "  </thead>\n",
              "  <tbody>\n",
              "    <tr>\n",
              "      <th>0</th>\n",
              "      <td>24</td>\n",
              "      <td>31</td>\n",
              "      <td>55</td>\n",
              "    </tr>\n",
              "    <tr>\n",
              "      <th>1</th>\n",
              "      <td>23</td>\n",
              "      <td>22</td>\n",
              "      <td>45</td>\n",
              "    </tr>\n",
              "    <tr>\n",
              "      <th>All</th>\n",
              "      <td>47</td>\n",
              "      <td>53</td>\n",
              "      <td>100</td>\n",
              "    </tr>\n",
              "  </tbody>\n",
              "</table>\n",
              "</div>\n",
              "    <div class=\"colab-df-buttons\">\n",
              "\n",
              "  <div class=\"colab-df-container\">\n",
              "    <button class=\"colab-df-convert\" onclick=\"convertToInteractive('df-07804e1e-ea65-4174-90fe-ecdd367d3bbd')\"\n",
              "            title=\"Convert this dataframe to an interactive table.\"\n",
              "            style=\"display:none;\">\n",
              "\n",
              "  <svg xmlns=\"http://www.w3.org/2000/svg\" height=\"24px\" viewBox=\"0 -960 960 960\">\n",
              "    <path d=\"M120-120v-720h720v720H120Zm60-500h600v-160H180v160Zm220 220h160v-160H400v160Zm0 220h160v-160H400v160ZM180-400h160v-160H180v160Zm440 0h160v-160H620v160ZM180-180h160v-160H180v160Zm440 0h160v-160H620v160Z\"/>\n",
              "  </svg>\n",
              "    </button>\n",
              "\n",
              "  <style>\n",
              "    .colab-df-container {\n",
              "      display:flex;\n",
              "      gap: 12px;\n",
              "    }\n",
              "\n",
              "    .colab-df-convert {\n",
              "      background-color: #E8F0FE;\n",
              "      border: none;\n",
              "      border-radius: 50%;\n",
              "      cursor: pointer;\n",
              "      display: none;\n",
              "      fill: #1967D2;\n",
              "      height: 32px;\n",
              "      padding: 0 0 0 0;\n",
              "      width: 32px;\n",
              "    }\n",
              "\n",
              "    .colab-df-convert:hover {\n",
              "      background-color: #E2EBFA;\n",
              "      box-shadow: 0px 1px 2px rgba(60, 64, 67, 0.3), 0px 1px 3px 1px rgba(60, 64, 67, 0.15);\n",
              "      fill: #174EA6;\n",
              "    }\n",
              "\n",
              "    .colab-df-buttons div {\n",
              "      margin-bottom: 4px;\n",
              "    }\n",
              "\n",
              "    [theme=dark] .colab-df-convert {\n",
              "      background-color: #3B4455;\n",
              "      fill: #D2E3FC;\n",
              "    }\n",
              "\n",
              "    [theme=dark] .colab-df-convert:hover {\n",
              "      background-color: #434B5C;\n",
              "      box-shadow: 0px 1px 3px 1px rgba(0, 0, 0, 0.15);\n",
              "      filter: drop-shadow(0px 1px 2px rgba(0, 0, 0, 0.3));\n",
              "      fill: #FFFFFF;\n",
              "    }\n",
              "  </style>\n",
              "\n",
              "    <script>\n",
              "      const buttonEl =\n",
              "        document.querySelector('#df-07804e1e-ea65-4174-90fe-ecdd367d3bbd button.colab-df-convert');\n",
              "      buttonEl.style.display =\n",
              "        google.colab.kernel.accessAllowed ? 'block' : 'none';\n",
              "\n",
              "      async function convertToInteractive(key) {\n",
              "        const element = document.querySelector('#df-07804e1e-ea65-4174-90fe-ecdd367d3bbd');\n",
              "        const dataTable =\n",
              "          await google.colab.kernel.invokeFunction('convertToInteractive',\n",
              "                                                    [key], {});\n",
              "        if (!dataTable) return;\n",
              "\n",
              "        const docLinkHtml = 'Like what you see? Visit the ' +\n",
              "          '<a target=\"_blank\" href=https://colab.research.google.com/notebooks/data_table.ipynb>data table notebook</a>'\n",
              "          + ' to learn more about interactive tables.';\n",
              "        element.innerHTML = '';\n",
              "        dataTable['output_type'] = 'display_data';\n",
              "        await google.colab.output.renderOutput(dataTable, element);\n",
              "        const docLink = document.createElement('div');\n",
              "        docLink.innerHTML = docLinkHtml;\n",
              "        element.appendChild(docLink);\n",
              "      }\n",
              "    </script>\n",
              "  </div>\n",
              "\n",
              "\n",
              "    <div id=\"df-d88863f1-52fc-4596-a042-2fab06d187f1\">\n",
              "      <button class=\"colab-df-quickchart\" onclick=\"quickchart('df-d88863f1-52fc-4596-a042-2fab06d187f1')\"\n",
              "                title=\"Suggest charts\"\n",
              "                style=\"display:none;\">\n",
              "\n",
              "<svg xmlns=\"http://www.w3.org/2000/svg\" height=\"24px\"viewBox=\"0 0 24 24\"\n",
              "     width=\"24px\">\n",
              "    <g>\n",
              "        <path d=\"M19 3H5c-1.1 0-2 .9-2 2v14c0 1.1.9 2 2 2h14c1.1 0 2-.9 2-2V5c0-1.1-.9-2-2-2zM9 17H7v-7h2v7zm4 0h-2V7h2v10zm4 0h-2v-4h2v4z\"/>\n",
              "    </g>\n",
              "</svg>\n",
              "      </button>\n",
              "\n",
              "<style>\n",
              "  .colab-df-quickchart {\n",
              "      --bg-color: #E8F0FE;\n",
              "      --fill-color: #1967D2;\n",
              "      --hover-bg-color: #E2EBFA;\n",
              "      --hover-fill-color: #174EA6;\n",
              "      --disabled-fill-color: #AAA;\n",
              "      --disabled-bg-color: #DDD;\n",
              "  }\n",
              "\n",
              "  [theme=dark] .colab-df-quickchart {\n",
              "      --bg-color: #3B4455;\n",
              "      --fill-color: #D2E3FC;\n",
              "      --hover-bg-color: #434B5C;\n",
              "      --hover-fill-color: #FFFFFF;\n",
              "      --disabled-bg-color: #3B4455;\n",
              "      --disabled-fill-color: #666;\n",
              "  }\n",
              "\n",
              "  .colab-df-quickchart {\n",
              "    background-color: var(--bg-color);\n",
              "    border: none;\n",
              "    border-radius: 50%;\n",
              "    cursor: pointer;\n",
              "    display: none;\n",
              "    fill: var(--fill-color);\n",
              "    height: 32px;\n",
              "    padding: 0;\n",
              "    width: 32px;\n",
              "  }\n",
              "\n",
              "  .colab-df-quickchart:hover {\n",
              "    background-color: var(--hover-bg-color);\n",
              "    box-shadow: 0 1px 2px rgba(60, 64, 67, 0.3), 0 1px 3px 1px rgba(60, 64, 67, 0.15);\n",
              "    fill: var(--button-hover-fill-color);\n",
              "  }\n",
              "\n",
              "  .colab-df-quickchart-complete:disabled,\n",
              "  .colab-df-quickchart-complete:disabled:hover {\n",
              "    background-color: var(--disabled-bg-color);\n",
              "    fill: var(--disabled-fill-color);\n",
              "    box-shadow: none;\n",
              "  }\n",
              "\n",
              "  .colab-df-spinner {\n",
              "    border: 2px solid var(--fill-color);\n",
              "    border-color: transparent;\n",
              "    border-bottom-color: var(--fill-color);\n",
              "    animation:\n",
              "      spin 1s steps(1) infinite;\n",
              "  }\n",
              "\n",
              "  @keyframes spin {\n",
              "    0% {\n",
              "      border-color: transparent;\n",
              "      border-bottom-color: var(--fill-color);\n",
              "      border-left-color: var(--fill-color);\n",
              "    }\n",
              "    20% {\n",
              "      border-color: transparent;\n",
              "      border-left-color: var(--fill-color);\n",
              "      border-top-color: var(--fill-color);\n",
              "    }\n",
              "    30% {\n",
              "      border-color: transparent;\n",
              "      border-left-color: var(--fill-color);\n",
              "      border-top-color: var(--fill-color);\n",
              "      border-right-color: var(--fill-color);\n",
              "    }\n",
              "    40% {\n",
              "      border-color: transparent;\n",
              "      border-right-color: var(--fill-color);\n",
              "      border-top-color: var(--fill-color);\n",
              "    }\n",
              "    60% {\n",
              "      border-color: transparent;\n",
              "      border-right-color: var(--fill-color);\n",
              "    }\n",
              "    80% {\n",
              "      border-color: transparent;\n",
              "      border-right-color: var(--fill-color);\n",
              "      border-bottom-color: var(--fill-color);\n",
              "    }\n",
              "    90% {\n",
              "      border-color: transparent;\n",
              "      border-bottom-color: var(--fill-color);\n",
              "    }\n",
              "  }\n",
              "</style>\n",
              "\n",
              "      <script>\n",
              "        async function quickchart(key) {\n",
              "          const quickchartButtonEl =\n",
              "            document.querySelector('#' + key + ' button');\n",
              "          quickchartButtonEl.disabled = true;  // To prevent multiple clicks.\n",
              "          quickchartButtonEl.classList.add('colab-df-spinner');\n",
              "          try {\n",
              "            const charts = await google.colab.kernel.invokeFunction(\n",
              "                'suggestCharts', [key], {});\n",
              "          } catch (error) {\n",
              "            console.error('Error during call to suggestCharts:', error);\n",
              "          }\n",
              "          quickchartButtonEl.classList.remove('colab-df-spinner');\n",
              "          quickchartButtonEl.classList.add('colab-df-quickchart-complete');\n",
              "        }\n",
              "        (() => {\n",
              "          let quickchartButtonEl =\n",
              "            document.querySelector('#df-d88863f1-52fc-4596-a042-2fab06d187f1 button');\n",
              "          quickchartButtonEl.style.display =\n",
              "            google.colab.kernel.accessAllowed ? 'block' : 'none';\n",
              "        })();\n",
              "      </script>\n",
              "    </div>\n",
              "\n",
              "    </div>\n",
              "  </div>\n"
            ],
            "application/vnd.google.colaboratory.intrinsic+json": {
              "type": "dataframe",
              "summary": "{\n  \"name\": \"pd\",\n  \"rows\": 3,\n  \"fields\": [\n    {\n      \"column\": \"utilization\",\n      \"properties\": {\n        \"dtype\": \"string\",\n        \"num_unique_values\": 3,\n        \"samples\": [\n          0,\n          1,\n          \"All\"\n        ],\n        \"semantic_type\": \"\",\n        \"description\": \"\"\n      }\n    },\n    {\n      \"column\": 0,\n      \"properties\": {\n        \"dtype\": \"number\",\n        \"std\": 13,\n        \"min\": 23,\n        \"max\": 47,\n        \"num_unique_values\": 3,\n        \"samples\": [\n          24,\n          23,\n          47\n        ],\n        \"semantic_type\": \"\",\n        \"description\": \"\"\n      }\n    },\n    {\n      \"column\": 1,\n      \"properties\": {\n        \"dtype\": \"number\",\n        \"std\": 15,\n        \"min\": 22,\n        \"max\": 53,\n        \"num_unique_values\": 3,\n        \"samples\": [\n          31,\n          22,\n          53\n        ],\n        \"semantic_type\": \"\",\n        \"description\": \"\"\n      }\n    },\n    {\n      \"column\": \"All\",\n      \"properties\": {\n        \"dtype\": \"number\",\n        \"std\": 29,\n        \"min\": 45,\n        \"max\": 100,\n        \"num_unique_values\": 3,\n        \"samples\": [\n          55,\n          45,\n          100\n        ],\n        \"semantic_type\": \"\",\n        \"description\": \"\"\n      }\n    }\n  ]\n}"
            }
          },
          "metadata": {},
          "execution_count": 11
        }
      ]
    },
    {
      "cell_type": "code",
      "source": [
        "# Set as an R dataframe using context and a converter object\n",
        "with (ro.default_converter + pandas2ri.converter).context():\n",
        "  r_df = ro.conversion.get_conversion().py2rpy(df)"
      ],
      "metadata": {
        "id": "ydDj8PVZ84st"
      },
      "execution_count": 14,
      "outputs": []
    },
    {
      "cell_type": "markdown",
      "source": [
        "To calculate tetrachoric correlation, just use ```polycor()``` as shown below."
      ],
      "metadata": {
        "id": "nftN3E26-Wvp"
      }
    },
    {
      "cell_type": "code",
      "source": [
        "# Check the correlation\n",
        "r_corr = polycor.polychor(r_df.rx2('utilization'), r_df.rx2('frustration'))\n",
        "\n",
        "# Show\n",
        "print(f'Polychoric correlation: {r_corr[0]}')"
      ],
      "metadata": {
        "colab": {
          "base_uri": "https://localhost:8080/"
        },
        "id": "LV2Dbxrc9C2C",
        "outputId": "e00bd4a3-9b6d-489b-cade-a2a7c16da1da"
      },
      "execution_count": 15,
      "outputs": [
        {
          "output_type": "stream",
          "name": "stdout",
          "text": [
            "Polychoric correlation: -0.11716496854676184\n"
          ]
        }
      ]
    },
    {
      "cell_type": "code",
      "source": [
        "# Coerce numbers to ordered factor (levels 0,1 assumed)\n",
        "r_df[r_df.names.index(\"utilization\")] = ro.r[\"ordered\"](r_df.rx2(\"utilization\"), levels=IntVector([0,1]))\n",
        "r_df[r_df.names.index(\"frustration\")] = ro.r[\"ordered\"](r_df.rx2(\"frustration\"), levels=IntVector([0,1]))\n",
        "\n",
        "# Check significance\n",
        "r_hetcor = polycor.hetcor(r_df, use=\"complete.obs\")\n",
        "\n",
        "# Print\n",
        "print(r_hetcor)"
      ],
      "metadata": {
        "colab": {
          "base_uri": "https://localhost:8080/"
        },
        "id": "3nlbU4pt9jbr",
        "outputId": "3c2b3afb-ffbb-49ca-cfa7-fd33596a47a3"
      },
      "execution_count": 16,
      "outputs": [
        {
          "output_type": "stream",
          "name": "stdout",
          "text": [
            "\n",
            "Two-Step Estimates\n",
            "\n",
            "Correlations/Type of Correlation:\n",
            "            utilization frustration\n",
            "utilization           1  Polychoric\n",
            "frustration     -0.1172           1\n",
            "\n",
            "Standard Errors:\n",
            "[1] \"\"       \"0.1561\"\n",
            "\n",
            "n = 100 \n",
            "\n"
          ]
        }
      ]
    },
    {
      "cell_type": "markdown",
      "source": [
        "The two variables in our example have a weak inverse correlation (r = -0.1172), and it is not statistically significant (p = 0.1561)."
      ],
      "metadata": {
        "id": "pkr2LI3W--Qs"
      }
    }
  ]
}