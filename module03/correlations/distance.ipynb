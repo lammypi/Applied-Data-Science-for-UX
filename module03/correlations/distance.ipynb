{
  "nbformat": 4,
  "nbformat_minor": 0,
  "metadata": {
    "colab": {
      "provenance": []
    },
    "kernelspec": {
      "name": "python3",
      "display_name": "Python 3"
    },
    "language_info": {
      "name": "python"
    }
  },
  "cells": [
    {
      "cell_type": "markdown",
      "source": [
        "# Distance Correlation (dCor)"
      ],
      "metadata": {
        "id": "MvaAhxWxNiYP"
      }
    },
    {
      "cell_type": "markdown",
      "source": [
        "The distance correlation measures the strength of association between variables regardless of its nature (linear, nonlinear, monotonic, etc.). This makes it really useful for UX research as we typically encounter things like:\n",
        "- Saturation effects, such as when satisfaction plateaus after a certain number of steps in a product walkthru.\n",
        "- Threshold effects, like certain emotional reactions spiking after a certain amount of events.\n",
        "- Curvilinear relationships, like engagement vs. time pressure in work environments.\n",
        "\n",
        "So let me explain the core idea a bit more clearly. dCor is defined via a pairwise distance matrix. Meaning you would start out by calculating the Euclidean pairwise distances between all observations in X and Y of your data set. Then you would double center the distance matrices, which is a distance matrix with it's row means and column means removed, but the grand mean added back in. This removes the average structure and leaves only the interaction structure. Then you compute the weighted sum of products for the centered distances.\n",
        "\n",
        "That looks a bit like this:\n",
        "\n",
        "$dCor = \\frac{dCov(X,Y)}{\\sqrt{dCov(X,X) \\cdot dCov(Y,Y)}}$\n",
        "\n",
        "__Interpretation__\n",
        "\n",
        "Unlike other correlations presented in this section, dCor is bounded within the range of [0,1]. It captures strength only.\n",
        "\n",
        "| dCor Value | Interpretation |\n",
        "|------------|----------------|\n",
        "| 0.0        | Not statistically dependent |\n",
        "| 0.1 to 0.3 | weak dependence |\n",
        "| 0.3 to 0.5 | Moderate dependence |\n",
        "| 0.5 to 1.0 | Strong dependence |\n",
        "\n",
        "__Assumptions__\n",
        "1. Both variables are either continuous or ordinal with high granularity.\n",
        "   - By high granularity, think of a scale like 0 to 10.\n",
        "2. Variance is finite.\n",
        "3. Sample sizes on both variables are the same.\n",
        "\n",
        "Unlike some other correlation measures, such as Pearson's r, there is no assumption of linearity, normality, or homogeneity of variance."
      ],
      "metadata": {
        "id": "5OxJ_FbONpAw"
      }
    },
    {
      "cell_type": "markdown",
      "source": [
        "## Python Example"
      ],
      "metadata": {
        "id": "2KT4Jmr3QzQH"
      }
    },
    {
      "cell_type": "markdown",
      "source": [
        "dCor can be calculated using the Python library [dcor](https://dcor.readthedocs.io/en/stable/index.html)."
      ],
      "metadata": {
        "id": "QVBXL4NHQ1N3"
      }
    },
    {
      "cell_type": "code",
      "execution_count": 2,
      "metadata": {
        "id": "T09zZn_7Nafp"
      },
      "outputs": [],
      "source": [
        "# If you need to install dcor, uncomment the line below\n",
        "#!pip install dcor"
      ]
    },
    {
      "cell_type": "markdown",
      "source": [
        "If you're installing via conda, use this:   \n",
        "```conda install -c conda-forge dcor```"
      ],
      "metadata": {
        "id": "uaDhYLX8RPB0"
      }
    },
    {
      "cell_type": "code",
      "source": [
        "# Import\n",
        "import numpy as np\n",
        "import pandas as pd\n",
        "\n",
        "# dcor\n",
        "import dcor\n",
        "\n",
        "# Visualizations\n",
        "import matplotlib.pyplot as plt\n",
        "import seaborn as sns"
      ],
      "metadata": {
        "id": "FZniy9ULRN_v"
      },
      "execution_count": 4,
      "outputs": []
    },
    {
      "cell_type": "markdown",
      "source": [
        "For a scenario, imagine the following:\n",
        "\n",
        "You have data for 150 users who have completed the first time walkthrough of a new product feature that has 12 tooltips. At the end, each user rated their satisfaction on a scale of 0 to 10."
      ],
      "metadata": {
        "id": "OAPbtAL_SZFD"
      }
    },
    {
      "cell_type": "code",
      "source": [
        "# Import a dataset\n",
        "df = pd.read_csv('/content/drive/MyDrive/Data Science for UX/data_science_for_ux/correlations/SaturationDataset.csv')\n",
        "\n",
        "# View\n",
        "df.head()"
      ],
      "metadata": {
        "colab": {
          "base_uri": "https://localhost:8080/",
          "height": 206
        },
        "id": "m_PvwXSISxLC",
        "outputId": "dec4ccaf-62fa-40dc-f706-400f3f3e4486"
      },
      "execution_count": 9,
      "outputs": [
        {
          "output_type": "execute_result",
          "data": {
            "text/plain": [
              "   tooltips_viewed  satisfaction\n",
              "0                6      6.252990\n",
              "1                3      3.627367\n",
              "2               12      3.508099\n",
              "3               10      5.266314\n",
              "4                7      4.895426"
            ],
            "text/html": [
              "\n",
              "  <div id=\"df-ca337c12-4b01-413a-abe4-a78de1d98e3f\" class=\"colab-df-container\">\n",
              "    <div>\n",
              "<style scoped>\n",
              "    .dataframe tbody tr th:only-of-type {\n",
              "        vertical-align: middle;\n",
              "    }\n",
              "\n",
              "    .dataframe tbody tr th {\n",
              "        vertical-align: top;\n",
              "    }\n",
              "\n",
              "    .dataframe thead th {\n",
              "        text-align: right;\n",
              "    }\n",
              "</style>\n",
              "<table border=\"1\" class=\"dataframe\">\n",
              "  <thead>\n",
              "    <tr style=\"text-align: right;\">\n",
              "      <th></th>\n",
              "      <th>tooltips_viewed</th>\n",
              "      <th>satisfaction</th>\n",
              "    </tr>\n",
              "  </thead>\n",
              "  <tbody>\n",
              "    <tr>\n",
              "      <th>0</th>\n",
              "      <td>6</td>\n",
              "      <td>6.252990</td>\n",
              "    </tr>\n",
              "    <tr>\n",
              "      <th>1</th>\n",
              "      <td>3</td>\n",
              "      <td>3.627367</td>\n",
              "    </tr>\n",
              "    <tr>\n",
              "      <th>2</th>\n",
              "      <td>12</td>\n",
              "      <td>3.508099</td>\n",
              "    </tr>\n",
              "    <tr>\n",
              "      <th>3</th>\n",
              "      <td>10</td>\n",
              "      <td>5.266314</td>\n",
              "    </tr>\n",
              "    <tr>\n",
              "      <th>4</th>\n",
              "      <td>7</td>\n",
              "      <td>4.895426</td>\n",
              "    </tr>\n",
              "  </tbody>\n",
              "</table>\n",
              "</div>\n",
              "    <div class=\"colab-df-buttons\">\n",
              "\n",
              "  <div class=\"colab-df-container\">\n",
              "    <button class=\"colab-df-convert\" onclick=\"convertToInteractive('df-ca337c12-4b01-413a-abe4-a78de1d98e3f')\"\n",
              "            title=\"Convert this dataframe to an interactive table.\"\n",
              "            style=\"display:none;\">\n",
              "\n",
              "  <svg xmlns=\"http://www.w3.org/2000/svg\" height=\"24px\" viewBox=\"0 -960 960 960\">\n",
              "    <path d=\"M120-120v-720h720v720H120Zm60-500h600v-160H180v160Zm220 220h160v-160H400v160Zm0 220h160v-160H400v160ZM180-400h160v-160H180v160Zm440 0h160v-160H620v160ZM180-180h160v-160H180v160Zm440 0h160v-160H620v160Z\"/>\n",
              "  </svg>\n",
              "    </button>\n",
              "\n",
              "  <style>\n",
              "    .colab-df-container {\n",
              "      display:flex;\n",
              "      gap: 12px;\n",
              "    }\n",
              "\n",
              "    .colab-df-convert {\n",
              "      background-color: #E8F0FE;\n",
              "      border: none;\n",
              "      border-radius: 50%;\n",
              "      cursor: pointer;\n",
              "      display: none;\n",
              "      fill: #1967D2;\n",
              "      height: 32px;\n",
              "      padding: 0 0 0 0;\n",
              "      width: 32px;\n",
              "    }\n",
              "\n",
              "    .colab-df-convert:hover {\n",
              "      background-color: #E2EBFA;\n",
              "      box-shadow: 0px 1px 2px rgba(60, 64, 67, 0.3), 0px 1px 3px 1px rgba(60, 64, 67, 0.15);\n",
              "      fill: #174EA6;\n",
              "    }\n",
              "\n",
              "    .colab-df-buttons div {\n",
              "      margin-bottom: 4px;\n",
              "    }\n",
              "\n",
              "    [theme=dark] .colab-df-convert {\n",
              "      background-color: #3B4455;\n",
              "      fill: #D2E3FC;\n",
              "    }\n",
              "\n",
              "    [theme=dark] .colab-df-convert:hover {\n",
              "      background-color: #434B5C;\n",
              "      box-shadow: 0px 1px 3px 1px rgba(0, 0, 0, 0.15);\n",
              "      filter: drop-shadow(0px 1px 2px rgba(0, 0, 0, 0.3));\n",
              "      fill: #FFFFFF;\n",
              "    }\n",
              "  </style>\n",
              "\n",
              "    <script>\n",
              "      const buttonEl =\n",
              "        document.querySelector('#df-ca337c12-4b01-413a-abe4-a78de1d98e3f button.colab-df-convert');\n",
              "      buttonEl.style.display =\n",
              "        google.colab.kernel.accessAllowed ? 'block' : 'none';\n",
              "\n",
              "      async function convertToInteractive(key) {\n",
              "        const element = document.querySelector('#df-ca337c12-4b01-413a-abe4-a78de1d98e3f');\n",
              "        const dataTable =\n",
              "          await google.colab.kernel.invokeFunction('convertToInteractive',\n",
              "                                                    [key], {});\n",
              "        if (!dataTable) return;\n",
              "\n",
              "        const docLinkHtml = 'Like what you see? Visit the ' +\n",
              "          '<a target=\"_blank\" href=https://colab.research.google.com/notebooks/data_table.ipynb>data table notebook</a>'\n",
              "          + ' to learn more about interactive tables.';\n",
              "        element.innerHTML = '';\n",
              "        dataTable['output_type'] = 'display_data';\n",
              "        await google.colab.output.renderOutput(dataTable, element);\n",
              "        const docLink = document.createElement('div');\n",
              "        docLink.innerHTML = docLinkHtml;\n",
              "        element.appendChild(docLink);\n",
              "      }\n",
              "    </script>\n",
              "  </div>\n",
              "\n",
              "\n",
              "    <div id=\"df-5ac6e302-9671-470e-accc-005ec3327a8a\">\n",
              "      <button class=\"colab-df-quickchart\" onclick=\"quickchart('df-5ac6e302-9671-470e-accc-005ec3327a8a')\"\n",
              "                title=\"Suggest charts\"\n",
              "                style=\"display:none;\">\n",
              "\n",
              "<svg xmlns=\"http://www.w3.org/2000/svg\" height=\"24px\"viewBox=\"0 0 24 24\"\n",
              "     width=\"24px\">\n",
              "    <g>\n",
              "        <path d=\"M19 3H5c-1.1 0-2 .9-2 2v14c0 1.1.9 2 2 2h14c1.1 0 2-.9 2-2V5c0-1.1-.9-2-2-2zM9 17H7v-7h2v7zm4 0h-2V7h2v10zm4 0h-2v-4h2v4z\"/>\n",
              "    </g>\n",
              "</svg>\n",
              "      </button>\n",
              "\n",
              "<style>\n",
              "  .colab-df-quickchart {\n",
              "      --bg-color: #E8F0FE;\n",
              "      --fill-color: #1967D2;\n",
              "      --hover-bg-color: #E2EBFA;\n",
              "      --hover-fill-color: #174EA6;\n",
              "      --disabled-fill-color: #AAA;\n",
              "      --disabled-bg-color: #DDD;\n",
              "  }\n",
              "\n",
              "  [theme=dark] .colab-df-quickchart {\n",
              "      --bg-color: #3B4455;\n",
              "      --fill-color: #D2E3FC;\n",
              "      --hover-bg-color: #434B5C;\n",
              "      --hover-fill-color: #FFFFFF;\n",
              "      --disabled-bg-color: #3B4455;\n",
              "      --disabled-fill-color: #666;\n",
              "  }\n",
              "\n",
              "  .colab-df-quickchart {\n",
              "    background-color: var(--bg-color);\n",
              "    border: none;\n",
              "    border-radius: 50%;\n",
              "    cursor: pointer;\n",
              "    display: none;\n",
              "    fill: var(--fill-color);\n",
              "    height: 32px;\n",
              "    padding: 0;\n",
              "    width: 32px;\n",
              "  }\n",
              "\n",
              "  .colab-df-quickchart:hover {\n",
              "    background-color: var(--hover-bg-color);\n",
              "    box-shadow: 0 1px 2px rgba(60, 64, 67, 0.3), 0 1px 3px 1px rgba(60, 64, 67, 0.15);\n",
              "    fill: var(--button-hover-fill-color);\n",
              "  }\n",
              "\n",
              "  .colab-df-quickchart-complete:disabled,\n",
              "  .colab-df-quickchart-complete:disabled:hover {\n",
              "    background-color: var(--disabled-bg-color);\n",
              "    fill: var(--disabled-fill-color);\n",
              "    box-shadow: none;\n",
              "  }\n",
              "\n",
              "  .colab-df-spinner {\n",
              "    border: 2px solid var(--fill-color);\n",
              "    border-color: transparent;\n",
              "    border-bottom-color: var(--fill-color);\n",
              "    animation:\n",
              "      spin 1s steps(1) infinite;\n",
              "  }\n",
              "\n",
              "  @keyframes spin {\n",
              "    0% {\n",
              "      border-color: transparent;\n",
              "      border-bottom-color: var(--fill-color);\n",
              "      border-left-color: var(--fill-color);\n",
              "    }\n",
              "    20% {\n",
              "      border-color: transparent;\n",
              "      border-left-color: var(--fill-color);\n",
              "      border-top-color: var(--fill-color);\n",
              "    }\n",
              "    30% {\n",
              "      border-color: transparent;\n",
              "      border-left-color: var(--fill-color);\n",
              "      border-top-color: var(--fill-color);\n",
              "      border-right-color: var(--fill-color);\n",
              "    }\n",
              "    40% {\n",
              "      border-color: transparent;\n",
              "      border-right-color: var(--fill-color);\n",
              "      border-top-color: var(--fill-color);\n",
              "    }\n",
              "    60% {\n",
              "      border-color: transparent;\n",
              "      border-right-color: var(--fill-color);\n",
              "    }\n",
              "    80% {\n",
              "      border-color: transparent;\n",
              "      border-right-color: var(--fill-color);\n",
              "      border-bottom-color: var(--fill-color);\n",
              "    }\n",
              "    90% {\n",
              "      border-color: transparent;\n",
              "      border-bottom-color: var(--fill-color);\n",
              "    }\n",
              "  }\n",
              "</style>\n",
              "\n",
              "      <script>\n",
              "        async function quickchart(key) {\n",
              "          const quickchartButtonEl =\n",
              "            document.querySelector('#' + key + ' button');\n",
              "          quickchartButtonEl.disabled = true;  // To prevent multiple clicks.\n",
              "          quickchartButtonEl.classList.add('colab-df-spinner');\n",
              "          try {\n",
              "            const charts = await google.colab.kernel.invokeFunction(\n",
              "                'suggestCharts', [key], {});\n",
              "          } catch (error) {\n",
              "            console.error('Error during call to suggestCharts:', error);\n",
              "          }\n",
              "          quickchartButtonEl.classList.remove('colab-df-spinner');\n",
              "          quickchartButtonEl.classList.add('colab-df-quickchart-complete');\n",
              "        }\n",
              "        (() => {\n",
              "          let quickchartButtonEl =\n",
              "            document.querySelector('#df-5ac6e302-9671-470e-accc-005ec3327a8a button');\n",
              "          quickchartButtonEl.style.display =\n",
              "            google.colab.kernel.accessAllowed ? 'block' : 'none';\n",
              "        })();\n",
              "      </script>\n",
              "    </div>\n",
              "\n",
              "    </div>\n",
              "  </div>\n"
            ],
            "application/vnd.google.colaboratory.intrinsic+json": {
              "type": "dataframe",
              "variable_name": "df",
              "summary": "{\n  \"name\": \"df\",\n  \"rows\": 150,\n  \"fields\": [\n    {\n      \"column\": \"tooltips_viewed\",\n      \"properties\": {\n        \"dtype\": \"number\",\n        \"std\": 3,\n        \"min\": 0,\n        \"max\": 12,\n        \"num_unique_values\": 13,\n        \"samples\": [\n          0,\n          1,\n          6\n        ],\n        \"semantic_type\": \"\",\n        \"description\": \"\"\n      }\n    },\n    {\n      \"column\": \"satisfaction\",\n      \"properties\": {\n        \"dtype\": \"number\",\n        \"std\": 2.1000457267015875,\n        \"min\": 0.0,\n        \"max\": 8.237229404377207,\n        \"num_unique_values\": 145,\n        \"samples\": [\n          1.6668349091589,\n          5.08182402174,\n          3.3107215566013366\n        ],\n        \"semantic_type\": \"\",\n        \"description\": \"\"\n      }\n    }\n  ]\n}"
            }
          },
          "metadata": {},
          "execution_count": 9
        }
      ]
    },
    {
      "cell_type": "code",
      "source": [
        "# Scatterplot\n",
        "sns.scatterplot(data=df, x='tooltips_viewed', y='satisfaction')\n",
        "\n",
        "plt.title('Scatterplot of Satisfaction vs. Number of Tooltips')\n",
        "plt.xlabel('Number of Tooltips')\n",
        "plt.ylabel('Satisfaction')\n",
        "\n",
        "# Show\n",
        "plt.tight_layout()\n",
        "plt.show()"
      ],
      "metadata": {
        "colab": {
          "base_uri": "https://localhost:8080/",
          "height": 487
        },
        "id": "8rLHlgOXTJoN",
        "outputId": "a1e68c6c-eb76-41ef-9d03-364b9b121e9e"
      },
      "execution_count": 11,
      "outputs": [
        {
          "output_type": "display_data",
          "data": {
            "text/plain": [
              "<Figure size 640x480 with 1 Axes>"
            ],
            "image/png": "[encoded data removed]"
          },
          "metadata": {}
        }
      ]
    },
    {
      "cell_type": "code",
      "source": [
        "# Run dcor\n",
        "dcor.distance_correlation(df['tooltips_viewed'], df['satisfaction'])"
      ],
      "metadata": {
        "colab": {
          "base_uri": "https://localhost:8080/"
        },
        "id": "LBBKurpHT_fp",
        "outputId": "2d6f5d39-4109-44ea-9ffc-c84040d7f907"
      },
      "execution_count": 12,
      "outputs": [
        {
          "output_type": "stream",
          "name": "stderr",
          "text": [
            "/usr/local/lib/python3.11/dist-packages/dcor/_fast_dcov_avl.py:554: UserWarning: Falling back to uncompiled AVL fast distance covariance terms because of TypeError exception raised: No matching definition for argument type(s) array(int64, 1d, C), array(float64, 1d, C), bool. Rembember: only floating point values can be used in the compiled implementations.\n",
            "  warnings.warn(\n"
          ]
        },
        {
          "output_type": "execute_result",
          "data": {
            "text/plain": [
              "np.float64(0.718689510324405)"
            ]
          },
          "metadata": {},
          "execution_count": 12
        }
      ]
    },
    {
      "cell_type": "markdown",
      "source": [
        "So, for our generated dataset, we see a dCor of ~0.7187, which is pretty strong.\n",
        "\n",
        "Getting at statistical significance is a bit more difficult in Python, though. It has to be done via a permutation test, which is a type of non-parametric bootstrapping."
      ],
      "metadata": {
        "id": "XbprgTW7XPqZ"
      }
    },
    {
      "cell_type": "code",
      "source": [
        "# Isolate your x and y variables\n",
        "x = df['tooltips_viewed']\n",
        "y = df['satisfaction']\n",
        "\n",
        "# Permutations\n",
        "n_perm = 1000\n",
        "perm_corrs = []\n",
        "\n",
        "# Iterate n_perm\n",
        "for _ in range(n_perm):\n",
        "  # Y permuted\n",
        "  y_perm = np.random.permutation(y)\n",
        "  # Calculate dCor\n",
        "  perm_corrs.append(dcor.distance_correlation(x, y_perm))\n",
        "\n",
        "# Compute the p-value\n",
        "p_value = np.mean(np.abs(perm_corrs) >= np.abs(dcor.distance_correlation(x, y)))\n",
        "\n",
        "# print\n",
        "print(f'dCor: {dcor.distance_correlation(x, y)}')\n",
        "print(f'p-value: {p_value}')"
      ],
      "metadata": {
        "colab": {
          "base_uri": "https://localhost:8080/"
        },
        "id": "U1PnxKJoXFXU",
        "outputId": "be3725da-8fce-40f6-8502-12f66b654a68"
      },
      "execution_count": 17,
      "outputs": [
        {
          "output_type": "stream",
          "name": "stdout",
          "text": [
            "dCor: 0.718689510324405\n",
            "p-value: 0.0\n"
          ]
        }
      ]
    },
    {
      "cell_type": "markdown",
      "source": [
        "From the above example, we can see that our dCor value is statistically significant at an alpha level of 0.05 (p = 0.0)."
      ],
      "metadata": {
        "id": "Jd5-3ZNYY9fl"
      }
    }
  ]
}