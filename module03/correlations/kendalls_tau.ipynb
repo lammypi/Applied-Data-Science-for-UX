{
 "cells": [
  {
   "cell_type": "markdown",
   "metadata": {
    "id": "kPmIejSFPTik"
   },
   "source": [
    "# Kendall's $τ$ (tau)"
   ]
  },
  {
   "cell_type": "markdown",
   "metadata": {
    "id": "gi5EH6574FQ3"
   },
   "source": [
    "Kendall's $\\tau$ is another non-parametric correlation measure, but instead of ranks it uses pairwise concordance.\n",
    "- Pairwise concordance means for every possible pair of data points you classify them as concordant if they move in the same direction, and discordant if they move in different directions. So:\n",
    "  - Concordant pairs move in the same direction:\n",
    "    - $x_{i} < x_{j}$, and $y_{i} < y_{j}$, $x_{i} > x_{j}$, and $y_{i} > y_{j}$\n",
    "  - Discordant pairs move in opposite directions:\n",
    "    - $x_{i} < x_{j}$, and $y_{i} > y_{j}$, $x_{i} > x_{j}$, and $y_{i} < y_{j}$\n",
    "\n",
    "Kendall's $\\tau$ is ideal for smaller sample sizes, and is better about handling tied ranks than Spearman's $\\rho$.\n",
    "\n",
    "Think of it as estimating the difference in probability that two variables are in the same order versus the opposite order.\n",
    "\n",
    "__Assumptions__\n",
    "1. At least ordinal level data.\n",
    "2. Monotonic relationship.\n",
    "\n",
    "As you can see again, linearity and approximate normality are not required for the data set.\n",
    "\n",
    "$$\n",
    "\\tau = \\frac{\\text{# concordant pairs} - \\text{# discordant pairs}}{\\binom{n}{2}}\n",
    "$$\n",
    "- $\\binom{n}{2}$ is the number of unique pairs. You can also represent it as $\\frac{n(n-1)}{2}$\n",
    "\n",
    "__How to Interpret__\n",
    "\n",
    "| τ Value Range         | Description               |\n",
    "| --------------------- | ------------------------- |\n",
    "| $\\tau = 0$            | No association            |\n",
    "| $0 < \\tau < 0.3$      | Weak positive association |\n",
    "| $-0.3 < \\tau < 0$     | Weak negative association |\n",
    "| $0.3 \\leq \\tau < 0.7$ | Moderate association      |\n",
    "| $\\tau \\geq 0.7$       | Strong association        |"
   ]
  },
  {
   "cell_type": "markdown",
   "metadata": {
    "id": "BfJKoIlJ-QRV"
   },
   "source": [
    "## Python Code Example"
   ]
  },
  {
   "cell_type": "code",
   "execution_count": 2,
   "metadata": {
    "executionInfo": {
     "elapsed": 1711,
     "status": "ok",
     "timestamp": 1749310440923,
     "user": {
      "displayName": "Leslie McFarlin",
      "userId": "01236583391427149381"
     },
     "user_tz": 300
    },
    "id": "Mtbn0rffPXif"
   },
   "outputs": [],
   "source": [
    "# Import\n",
    "import numpy as np\n",
    "import pandas as pd\n",
    "\n",
    "# Correlation coefficient\n",
    "import scipy.stats as stats\n",
    "\n",
    "# Visualizations\n",
    "import matplotlib.pyplot as plt\n",
    "import seaborn as sns"
   ]
  },
  {
   "cell_type": "code",
   "execution_count": 3,
   "metadata": {
    "colab": {
     "base_uri": "https://localhost:8080/",
     "height": 206
    },
    "executionInfo": {
     "elapsed": 373,
     "status": "ok",
     "timestamp": 1749310441299,
     "user": {
      "displayName": "Leslie McFarlin",
      "userId": "01236583391427149381"
     },
     "user_tz": 300
    },
    "id": "EDjR8S6SQJr8",
    "outputId": "a1c154e9-a8c2-4a4d-b00c-6b27140ad69f"
   },
   "outputs": [
    {
     "data": {
      "application/vnd.google.colaboratory.intrinsic+json": {
       "summary": "{\n  \"name\": \"df\",\n  \"rows\": 100,\n  \"fields\": [\n    {\n      \"column\": \"method\",\n      \"properties\": {\n        \"dtype\": \"category\",\n        \"num_unique_values\": 1,\n        \"samples\": [\n          \"Radial Velocity\"\n        ],\n        \"semantic_type\": \"\",\n        \"description\": \"\"\n      }\n    },\n    {\n      \"column\": \"number\",\n      \"properties\": {\n        \"dtype\": \"number\",\n        \"std\": 1,\n        \"min\": 1,\n        \"max\": 6,\n        \"num_unique_values\": 6,\n        \"samples\": [\n          3\n        ],\n        \"semantic_type\": \"\",\n        \"description\": \"\"\n      }\n    },\n    {\n      \"column\": \"orbital_period\",\n      \"properties\": {\n        \"dtype\": \"number\",\n        \"std\": 1928.3238899904452,\n        \"min\": 1.93778,\n        \"max\": 17337.5,\n        \"num_unique_values\": 99,\n        \"samples\": [\n          472.0\n        ],\n        \"semantic_type\": \"\",\n        \"description\": \"\"\n      }\n    },\n    {\n      \"column\": \"mass\",\n      \"properties\": {\n        \"dtype\": \"number\",\n        \"std\": 3.3597334326058754,\n        \"min\": 0.0087,\n        \"max\": 15.2,\n        \"num_unique_values\": 93,\n        \"samples\": [\n          0.895\n        ],\n        \"semantic_type\": \"\",\n        \"description\": \"\"\n      }\n    },\n    {\n      \"column\": \"distance\",\n      \"properties\": {\n        \"dtype\": \"number\",\n        \"std\": 60.05753343093671,\n        \"min\": 4.7,\n        \"max\": 352.11,\n        \"num_unique_values\": 88,\n        \"samples\": [\n          33.98\n        ],\n        \"semantic_type\": \"\",\n        \"description\": \"\"\n      }\n    },\n    {\n      \"column\": \"year\",\n      \"properties\": {\n        \"dtype\": \"number\",\n        \"std\": 4,\n        \"min\": 1995,\n        \"max\": 2013,\n        \"num_unique_values\": 17,\n        \"samples\": [\n          2011\n        ],\n        \"semantic_type\": \"\",\n        \"description\": \"\"\n      }\n    }\n  ]\n}",
       "type": "dataframe",
       "variable_name": "df"
      },
      "text/html": [
       "\n",
       "  <div id=\"df-54a224a8-2ae6-4891-a737-bf60b837258e\" class=\"colab-df-container\">\n",
       "    <div>\n",
       "<style scoped>\n",
       "    .dataframe tbody tr th:only-of-type {\n",
       "        vertical-align: middle;\n",
       "    }\n",
       "\n",
       "    .dataframe tbody tr th {\n",
       "        vertical-align: top;\n",
       "    }\n",
       "\n",
       "    .dataframe thead th {\n",
       "        text-align: right;\n",
       "    }\n",
       "</style>\n",
       "<table border=\"1\" class=\"dataframe\">\n",
       "  <thead>\n",
       "    <tr style=\"text-align: right;\">\n",
       "      <th></th>\n",
       "      <th>method</th>\n",
       "      <th>number</th>\n",
       "      <th>orbital_period</th>\n",
       "      <th>mass</th>\n",
       "      <th>distance</th>\n",
       "      <th>year</th>\n",
       "    </tr>\n",
       "  </thead>\n",
       "  <tbody>\n",
       "    <tr>\n",
       "      <th>632</th>\n",
       "      <td>Radial Velocity</td>\n",
       "      <td>3</td>\n",
       "      <td>8.1352</td>\n",
       "      <td>0.0360</td>\n",
       "      <td>25.87</td>\n",
       "      <td>2011</td>\n",
       "    </tr>\n",
       "    <tr>\n",
       "      <th>142</th>\n",
       "      <td>Radial Velocity</td>\n",
       "      <td>4</td>\n",
       "      <td>61.1166</td>\n",
       "      <td>2.2756</td>\n",
       "      <td>4.70</td>\n",
       "      <td>1998</td>\n",
       "    </tr>\n",
       "    <tr>\n",
       "      <th>351</th>\n",
       "      <td>Radial Velocity</td>\n",
       "      <td>1</td>\n",
       "      <td>6.2760</td>\n",
       "      <td>1.9000</td>\n",
       "      <td>58.82</td>\n",
       "      <td>2001</td>\n",
       "    </tr>\n",
       "    <tr>\n",
       "      <th>294</th>\n",
       "      <td>Radial Velocity</td>\n",
       "      <td>1</td>\n",
       "      <td>388.0000</td>\n",
       "      <td>9.1000</td>\n",
       "      <td>20.98</td>\n",
       "      <td>2005</td>\n",
       "    </tr>\n",
       "    <tr>\n",
       "      <th>358</th>\n",
       "      <td>Radial Velocity</td>\n",
       "      <td>1</td>\n",
       "      <td>1260.0000</td>\n",
       "      <td>3.0600</td>\n",
       "      <td>53.05</td>\n",
       "      <td>2008</td>\n",
       "    </tr>\n",
       "  </tbody>\n",
       "</table>\n",
       "</div>\n",
       "    <div class=\"colab-df-buttons\">\n",
       "\n",
       "  <div class=\"colab-df-container\">\n",
       "    <button class=\"colab-df-convert\" onclick=\"convertToInteractive('df-54a224a8-2ae6-4891-a737-bf60b837258e')\"\n",
       "            title=\"Convert this dataframe to an interactive table.\"\n",
       "            style=\"display:none;\">\n",
       "\n",
       "  <svg xmlns=\"http://www.w3.org/2000/svg\" height=\"24px\" viewBox=\"0 -960 960 960\">\n",
       "    <path d=\"M120-120v-720h720v720H120Zm60-500h600v-160H180v160Zm220 220h160v-160H400v160Zm0 220h160v-160H400v160ZM180-400h160v-160H180v160Zm440 0h160v-160H620v160ZM180-180h160v-160H180v160Zm440 0h160v-160H620v160Z\"/>\n",
       "  </svg>\n",
       "    </button>\n",
       "\n",
       "  <style>\n",
       "    .colab-df-container {\n",
       "      display:flex;\n",
       "      gap: 12px;\n",
       "    }\n",
       "\n",
       "    .colab-df-convert {\n",
       "      background-color: #E8F0FE;\n",
       "      border: none;\n",
       "      border-radius: 50%;\n",
       "      cursor: pointer;\n",
       "      display: none;\n",
       "      fill: #1967D2;\n",
       "      height: 32px;\n",
       "      padding: 0 0 0 0;\n",
       "      width: 32px;\n",
       "    }\n",
       "\n",
       "    .colab-df-convert:hover {\n",
       "      background-color: #E2EBFA;\n",
       "      box-shadow: 0px 1px 2px rgba(60, 64, 67, 0.3), 0px 1px 3px 1px rgba(60, 64, 67, 0.15);\n",
       "      fill: #174EA6;\n",
       "    }\n",
       "\n",
       "    .colab-df-buttons div {\n",
       "      margin-bottom: 4px;\n",
       "    }\n",
       "\n",
       "    [theme=dark] .colab-df-convert {\n",
       "      background-color: #3B4455;\n",
       "      fill: #D2E3FC;\n",
       "    }\n",
       "\n",
       "    [theme=dark] .colab-df-convert:hover {\n",
       "      background-color: #434B5C;\n",
       "      box-shadow: 0px 1px 3px 1px rgba(0, 0, 0, 0.15);\n",
       "      filter: drop-shadow(0px 1px 2px rgba(0, 0, 0, 0.3));\n",
       "      fill: #FFFFFF;\n",
       "    }\n",
       "  </style>\n",
       "\n",
       "    <script>\n",
       "      const buttonEl =\n",
       "        document.querySelector('#df-54a224a8-2ae6-4891-a737-bf60b837258e button.colab-df-convert');\n",
       "      buttonEl.style.display =\n",
       "        google.colab.kernel.accessAllowed ? 'block' : 'none';\n",
       "\n",
       "      async function convertToInteractive(key) {\n",
       "        const element = document.querySelector('#df-54a224a8-2ae6-4891-a737-bf60b837258e');\n",
       "        const dataTable =\n",
       "          await google.colab.kernel.invokeFunction('convertToInteractive',\n",
       "                                                    [key], {});\n",
       "        if (!dataTable) return;\n",
       "\n",
       "        const docLinkHtml = 'Like what you see? Visit the ' +\n",
       "          '<a target=\"_blank\" href=https://colab.research.google.com/notebooks/data_table.ipynb>data table notebook</a>'\n",
       "          + ' to learn more about interactive tables.';\n",
       "        element.innerHTML = '';\n",
       "        dataTable['output_type'] = 'display_data';\n",
       "        await google.colab.output.renderOutput(dataTable, element);\n",
       "        const docLink = document.createElement('div');\n",
       "        docLink.innerHTML = docLinkHtml;\n",
       "        element.appendChild(docLink);\n",
       "      }\n",
       "    </script>\n",
       "  </div>\n",
       "\n",
       "\n",
       "    <div id=\"df-1b636371-32ef-4aec-b6b5-1aaa04d0ad5e\">\n",
       "      <button class=\"colab-df-quickchart\" onclick=\"quickchart('df-1b636371-32ef-4aec-b6b5-1aaa04d0ad5e')\"\n",
       "                title=\"Suggest charts\"\n",
       "                style=\"display:none;\">\n",
       "\n",
       "<svg xmlns=\"http://www.w3.org/2000/svg\" height=\"24px\"viewBox=\"0 0 24 24\"\n",
       "     width=\"24px\">\n",
       "    <g>\n",
       "        <path d=\"M19 3H5c-1.1 0-2 .9-2 2v14c0 1.1.9 2 2 2h14c1.1 0 2-.9 2-2V5c0-1.1-.9-2-2-2zM9 17H7v-7h2v7zm4 0h-2V7h2v10zm4 0h-2v-4h2v4z\"/>\n",
       "    </g>\n",
       "</svg>\n",
       "      </button>\n",
       "\n",
       "<style>\n",
       "  .colab-df-quickchart {\n",
       "      --bg-color: #E8F0FE;\n",
       "      --fill-color: #1967D2;\n",
       "      --hover-bg-color: #E2EBFA;\n",
       "      --hover-fill-color: #174EA6;\n",
       "      --disabled-fill-color: #AAA;\n",
       "      --disabled-bg-color: #DDD;\n",
       "  }\n",
       "\n",
       "  [theme=dark] .colab-df-quickchart {\n",
       "      --bg-color: #3B4455;\n",
       "      --fill-color: #D2E3FC;\n",
       "      --hover-bg-color: #434B5C;\n",
       "      --hover-fill-color: #FFFFFF;\n",
       "      --disabled-bg-color: #3B4455;\n",
       "      --disabled-fill-color: #666;\n",
       "  }\n",
       "\n",
       "  .colab-df-quickchart {\n",
       "    background-color: var(--bg-color);\n",
       "    border: none;\n",
       "    border-radius: 50%;\n",
       "    cursor: pointer;\n",
       "    display: none;\n",
       "    fill: var(--fill-color);\n",
       "    height: 32px;\n",
       "    padding: 0;\n",
       "    width: 32px;\n",
       "  }\n",
       "\n",
       "  .colab-df-quickchart:hover {\n",
       "    background-color: var(--hover-bg-color);\n",
       "    box-shadow: 0 1px 2px rgba(60, 64, 67, 0.3), 0 1px 3px 1px rgba(60, 64, 67, 0.15);\n",
       "    fill: var(--button-hover-fill-color);\n",
       "  }\n",
       "\n",
       "  .colab-df-quickchart-complete:disabled,\n",
       "  .colab-df-quickchart-complete:disabled:hover {\n",
       "    background-color: var(--disabled-bg-color);\n",
       "    fill: var(--disabled-fill-color);\n",
       "    box-shadow: none;\n",
       "  }\n",
       "\n",
       "  .colab-df-spinner {\n",
       "    border: 2px solid var(--fill-color);\n",
       "    border-color: transparent;\n",
       "    border-bottom-color: var(--fill-color);\n",
       "    animation:\n",
       "      spin 1s steps(1) infinite;\n",
       "  }\n",
       "\n",
       "  @keyframes spin {\n",
       "    0% {\n",
       "      border-color: transparent;\n",
       "      border-bottom-color: var(--fill-color);\n",
       "      border-left-color: var(--fill-color);\n",
       "    }\n",
       "    20% {\n",
       "      border-color: transparent;\n",
       "      border-left-color: var(--fill-color);\n",
       "      border-top-color: var(--fill-color);\n",
       "    }\n",
       "    30% {\n",
       "      border-color: transparent;\n",
       "      border-left-color: var(--fill-color);\n",
       "      border-top-color: var(--fill-color);\n",
       "      border-right-color: var(--fill-color);\n",
       "    }\n",
       "    40% {\n",
       "      border-color: transparent;\n",
       "      border-right-color: var(--fill-color);\n",
       "      border-top-color: var(--fill-color);\n",
       "    }\n",
       "    60% {\n",
       "      border-color: transparent;\n",
       "      border-right-color: var(--fill-color);\n",
       "    }\n",
       "    80% {\n",
       "      border-color: transparent;\n",
       "      border-right-color: var(--fill-color);\n",
       "      border-bottom-color: var(--fill-color);\n",
       "    }\n",
       "    90% {\n",
       "      border-color: transparent;\n",
       "      border-bottom-color: var(--fill-color);\n",
       "    }\n",
       "  }\n",
       "</style>\n",
       "\n",
       "      <script>\n",
       "        async function quickchart(key) {\n",
       "          const quickchartButtonEl =\n",
       "            document.querySelector('#' + key + ' button');\n",
       "          quickchartButtonEl.disabled = true;  // To prevent multiple clicks.\n",
       "          quickchartButtonEl.classList.add('colab-df-spinner');\n",
       "          try {\n",
       "            const charts = await google.colab.kernel.invokeFunction(\n",
       "                'suggestCharts', [key], {});\n",
       "          } catch (error) {\n",
       "            console.error('Error during call to suggestCharts:', error);\n",
       "          }\n",
       "          quickchartButtonEl.classList.remove('colab-df-spinner');\n",
       "          quickchartButtonEl.classList.add('colab-df-quickchart-complete');\n",
       "        }\n",
       "        (() => {\n",
       "          let quickchartButtonEl =\n",
       "            document.querySelector('#df-1b636371-32ef-4aec-b6b5-1aaa04d0ad5e button');\n",
       "          quickchartButtonEl.style.display =\n",
       "            google.colab.kernel.accessAllowed ? 'block' : 'none';\n",
       "        })();\n",
       "      </script>\n",
       "    </div>\n",
       "\n",
       "    </div>\n",
       "  </div>\n"
      ],
      "text/plain": [
       "              method  number  orbital_period    mass  distance  year\n",
       "632  Radial Velocity       3          8.1352  0.0360     25.87  2011\n",
       "142  Radial Velocity       4         61.1166  2.2756      4.70  1998\n",
       "351  Radial Velocity       1          6.2760  1.9000     58.82  2001\n",
       "294  Radial Velocity       1        388.0000  9.1000     20.98  2005\n",
       "358  Radial Velocity       1       1260.0000  3.0600     53.05  2008"
      ]
     },
     "execution_count": 3,
     "metadata": {},
     "output_type": "execute_result"
    }
   ],
   "source": [
    "# Load Planets dataset from Seaborn - drop missing variables and choose a smaller sample\n",
    "planets = sns.load_dataset('planets').dropna().sample(100, random_state=42)\n",
    "df = pd.DataFrame(planets)\n",
    "\n",
    "# View some details\n",
    "df.head()"
   ]
  },
  {
   "cell_type": "code",
   "execution_count": 4,
   "metadata": {
    "colab": {
     "base_uri": "https://localhost:8080/",
     "height": 143
    },
    "executionInfo": {
     "elapsed": 107,
     "status": "ok",
     "timestamp": 1749310441407,
     "user": {
      "displayName": "Leslie McFarlin",
      "userId": "01236583391427149381"
     },
     "user_tz": 300
    },
    "id": "0gPn0ZU5QJir",
    "outputId": "e4b53177-c8b4-49f3-ee12-575b9c458ce9"
   },
   "outputs": [
    {
     "data": {
      "text/html": [
       "<style type=\"text/css\">\n",
       "#T_f4f00_row0_col0, #T_f4f00_row0_col1 {\n",
       "  background-color: #b40426;\n",
       "  color: #f1f1f1;\n",
       "}\n",
       "#T_f4f00_row1_col0, #T_f4f00_row1_col1 {\n",
       "  background-color: #3b4cc0;\n",
       "  color: #f1f1f1;\n",
       "}\n",
       "#T_f4f00_row2_col0 {\n",
       "  background-color: #7b9ff9;\n",
       "  color: #f1f1f1;\n",
       "}\n",
       "#T_f4f00_row2_col1 {\n",
       "  background-color: #6180e9;\n",
       "  color: #f1f1f1;\n",
       "}\n",
       "</style>\n",
       "<table id=\"T_f4f00\" class=\"dataframe\">\n",
       "  <thead>\n",
       "    <tr>\n",
       "      <th class=\"blank level0\" >&nbsp;</th>\n",
       "      <th id=\"T_f4f00_level0_col0\" class=\"col_heading level0 col0\" >skew</th>\n",
       "      <th id=\"T_f4f00_level0_col1\" class=\"col_heading level0 col1\" >kurtosis</th>\n",
       "    </tr>\n",
       "  </thead>\n",
       "  <tbody>\n",
       "    <tr>\n",
       "      <th id=\"T_f4f00_level0_row0\" class=\"row_heading level0 row0\" >orbital_period</th>\n",
       "      <td id=\"T_f4f00_row0_col0\" class=\"data row0 col0\" >6.755347</td>\n",
       "      <td id=\"T_f4f00_row0_col1\" class=\"data row0 col1\" >55.439942</td>\n",
       "    </tr>\n",
       "    <tr>\n",
       "      <th id=\"T_f4f00_level0_row1\" class=\"row_heading level0 row1\" >mass</th>\n",
       "      <td id=\"T_f4f00_row1_col0\" class=\"data row1 col0\" >2.016572</td>\n",
       "      <td id=\"T_f4f00_row1_col1\" class=\"data row1 col1\" >3.960250</td>\n",
       "    </tr>\n",
       "    <tr>\n",
       "      <th id=\"T_f4f00_level0_row2\" class=\"row_heading level0 row2\" >distance</th>\n",
       "      <td id=\"T_f4f00_row2_col0\" class=\"data row2 col0\" >2.960721</td>\n",
       "      <td id=\"T_f4f00_row2_col1\" class=\"data row2 col1\" >10.280670</td>\n",
       "    </tr>\n",
       "  </tbody>\n",
       "</table>\n"
      ],
      "text/plain": [
       "<pandas.io.formats.style.Styler at 0x7a0a855a2410>"
      ]
     },
     "execution_count": 4,
     "metadata": {},
     "output_type": "execute_result"
    }
   ],
   "source": [
    "# Skew and kurtosis\n",
    "pd.DataFrame(data={'skew': df.iloc[:, 2:5].skew(), 'kurtosis': df.iloc[:, 2:5].kurtosis()}).style.background_gradient(cmap='coolwarm')"
   ]
  },
  {
   "cell_type": "code",
   "execution_count": 5,
   "metadata": {
    "colab": {
     "base_uri": "https://localhost:8080/",
     "height": 757
    },
    "executionInfo": {
     "elapsed": 1459,
     "status": "ok",
     "timestamp": 1749310442876,
     "user": {
      "displayName": "Leslie McFarlin",
      "userId": "01236583391427149381"
     },
     "user_tz": 300
    },
    "id": "SCrdN7jk_FI1",
    "outputId": "fa601a1f-eddf-459f-d0bf-feb137448748"
   },
   "outputs": [
    {
     "data": {
      "image/png": "[encoded data removed]",
      "text/plain": [
       "<Figure size 750x750 with 9 Axes>"
      ]
     },
     "metadata": {},
     "output_type": "display_data"
    }
   ],
   "source": [
    "# Pairplot\n",
    "sns.pairplot(df.iloc[:, 2:5], corner=True, kind='reg', plot_kws={'line_kws': {'color': 'black'}})\n",
    "\n",
    "plt.tight_layout()\n",
    "plt.show()"
   ]
  },
  {
   "cell_type": "code",
   "execution_count": 6,
   "metadata": {
    "colab": {
     "base_uri": "https://localhost:8080/"
    },
    "executionInfo": {
     "elapsed": 6,
     "status": "ok",
     "timestamp": 1749310442877,
     "user": {
      "displayName": "Leslie McFarlin",
      "userId": "01236583391427149381"
     },
     "user_tz": 300
    },
    "id": "iYs6g3p4_E79",
    "outputId": "d2ca8c0f-fc31-49c1-d845-cbb109cfecff"
   },
   "outputs": [
    {
     "name": "stdout",
     "output_type": "stream",
     "text": [
      "Kendall's tau between Orbital Period and mass: 0.35 | p-value: 3.5840403947937143e-07\n",
      "Kendall's tau between Orbital Period and distance: 0.12 | p-value: 0.08302418600209442\n"
     ]
    }
   ],
   "source": [
    "### Calculate Kendall's tau individuall\n",
    "for col in df.iloc[:, 2:5].columns:\n",
    "  # Exclude orbital_period\n",
    "  if col != 'orbital_period':\n",
    "    # Calculate Kendall's tau\n",
    "    tau, p = stats.kendalltau(df['orbital_period'], df[col])\n",
    "    # Output display\n",
    "    print(f'Kendall\\'s tau between Orbital Period and {col}: {round(tau,2)} | p-value: {p}')"
   ]
  },
  {
   "cell_type": "code",
   "execution_count": 7,
   "metadata": {
    "colab": {
     "base_uri": "https://localhost:8080/",
     "height": 406
    },
    "executionInfo": {
     "elapsed": 183,
     "status": "ok",
     "timestamp": 1749310443058,
     "user": {
      "displayName": "Leslie McFarlin",
      "userId": "01236583391427149381"
     },
     "user_tz": 300
    },
    "id": "5ODBeqOF_Ey_",
    "outputId": "fc9a84f4-a63f-4d07-d911-b87eef0fc39c"
   },
   "outputs": [
    {
     "data": {
      "image/png": "[encoded data removed]",
      "text/plain": [
       "<Figure size 600x400 with 2 Axes>"
      ]
     },
     "metadata": {},
     "output_type": "display_data"
    }
   ],
   "source": [
    "### Seaborn heatmap version\n",
    "planets_corr = df.iloc[:, 2:5].corr(method='kendall')\n",
    "\n",
    "mask = np.triu(np.ones_like(planets_corr, dtype=bool))\n",
    "\n",
    "plt.figure(figsize=(6,4))\n",
    "sns.heatmap(planets_corr, mask=mask, annot=True, fmt='.2g', cmap='coolwarm', linewidths=1)\n",
    "plt.title('Correlation Matrix')\n",
    "plt.tight_layout()"
   ]
  },
  {
   "cell_type": "markdown",
   "metadata": {
    "id": "Q1B0ZHRRgj01"
   },
   "source": [
    "<a id='distance'></a>"
   ]
  }
 ],
 "metadata": {
  "colab": {
   "authorship_tag": "ABX9TyPR5PyJNscyUYPeJUzUIrGy",
   "provenance": []
  },
  "kernelspec": {
   "display_name": "Python 3",
   "name": "python3"
  },
  "language_info": {
   "name": "python"
  }
 },
 "nbformat": 4,
 "nbformat_minor": 0
}